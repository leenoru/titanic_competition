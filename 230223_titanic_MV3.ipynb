{
  "nbformat": 4,
  "nbformat_minor": 0,
  "metadata": {
    "colab": {
      "provenance": [],
      "authorship_tag": "ABX9TyPGdP/yBI+FTWRHG0DOF/Eb",
      "include_colab_link": true
    },
    "kernelspec": {
      "name": "python3",
      "display_name": "Python 3"
    },
    "language_info": {
      "name": "python"
    }
  },
  "cells": [
    {
      "cell_type": "markdown",
      "metadata": {
        "id": "view-in-github",
        "colab_type": "text"
      },
      "source": [
        "<a href=\"https://colab.research.google.com/github/leenoru/titanic_competition/blob/main/230223_titanic_MV3.ipynb\" target=\"_parent\"><img src=\"https://colab.research.google.com/assets/colab-badge.svg\" alt=\"Open In Colab\"/></a>"
      ]
    },
    {
      "cell_type": "markdown",
      "source": [
        "# Mission\n",
        "- 타이타닉 데이터를 가져와 id 대비 생존률을 정확하게 맞출 수 있는 모델을 만들기\n",
        "- 활용 모델 : DecisionTreeClassifier\n",
        "- 아래와 같이 제작해서 캐글로 제출\n"
      ],
      "metadata": {
        "id": "F-svvJeThrB1"
      }
    },
    {
      "cell_type": "code",
      "source": [
        "# submission = pd.read_csv(args.submission_csv)\n",
        "# print(f'{submission.shape}')\n",
        "# submission.head()"
      ],
      "metadata": {
        "id": "9Qo9dI-qmH0m"
      },
      "execution_count": 1,
      "outputs": []
    },
    {
      "cell_type": "markdown",
      "source": [
        "![image.png](data:image/png;base64,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)"
      ],
      "metadata": {
        "id": "vvpaQdydl9hN"
      }
    },
    {
      "cell_type": "markdown",
      "source": [
        "# Connect to google account"
      ],
      "metadata": {
        "id": "f5xAet6tjT71"
      }
    },
    {
      "cell_type": "code",
      "execution_count": 2,
      "metadata": {
        "colab": {
          "base_uri": "https://localhost:8080/"
        },
        "id": "UFamcrEsdw6-",
        "outputId": "dd636a2a-3ecc-4310-c82d-7c97e7de9a59"
      },
      "outputs": [
        {
          "output_type": "stream",
          "name": "stdout",
          "text": [
            "Mounted at /content/gdrive\n"
          ]
        }
      ],
      "source": [
        "from google.colab import drive\n",
        "import pandas as pd\n",
        "\n",
        "# 구글 드라이브 마운트\n",
        "drive.mount('/content/gdrive')"
      ]
    },
    {
      "cell_type": "code",
      "source": [
        "# 코렙 한글깨짐 방지\n",
        "!apt -qq -y install fonts-nanum > /dev/null\n",
        "\n",
        "# 데이터 시각화에 사용할 라이브러리\n",
        "import matplotlib.pyplot as plt\n",
        "import matplotlib.font_manager as fm\n",
        "import seaborn as sns\n",
        "\n",
        "fontpath = '/usr/share/fonts/truetype/nanum/NanumBarunGothic.ttf'\n",
        "font_name = fm.FontProperties(fname=fontpath).get_name() \n",
        "fm._rebuild()  \n",
        "\n",
        "%config InlineBackend.figure_format = 'retina'\n",
        "\n",
        "plt.rc('font', family=font_name)  \n",
        "plt.rcParams['axes.unicode_minus'] = False"
      ],
      "metadata": {
        "colab": {
          "base_uri": "https://localhost:8080/"
        },
        "id": "cMiTVGX1d2JA",
        "outputId": "3bdddafe-a8a9-49bd-9cf5-18ef55b84e1c"
      },
      "execution_count": 3,
      "outputs": [
        {
          "output_type": "stream",
          "name": "stdout",
          "text": [
            "\n",
            "WARNING: apt does not have a stable CLI interface. Use with caution in scripts.\n",
            "\n"
          ]
        }
      ]
    },
    {
      "cell_type": "markdown",
      "source": [
        "# Global Variables"
      ],
      "metadata": {
        "id": "S9nhegD8jpTu"
      }
    },
    {
      "cell_type": "code",
      "source": [
        "import easydict\n",
        "import json\n",
        "args = easydict.EasyDict()\n",
        "\n",
        "# path 정보\n",
        "args.default_path = '/content/gdrive/My Drive/titanic_kaggle/data/'\n",
        "args.train_csv = args.default_path+'train.csv'\n",
        "args.test_csv = args.default_path+'test.csv'\n",
        "args.submission_csv = args.default_path+'submission.csv'\n",
        "\n",
        "# 데이터 분석을 위한 변수들\n",
        "args.random_state = 21\n",
        "SEED = 42\n",
        "\n",
        "# 컬럼 분류\n",
        "target_cols = ['survived']\n",
        "continous_cols = ['age', 'sibsp', 'parch', 'fare']\n",
        "category_cols = ['pclass', 'gender', 'embarked']\n",
        "other_cols = ['passengerid', 'name', 'ticket', 'cabin']"
      ],
      "metadata": {
        "id": "FzAvi3XSeQKV"
      },
      "execution_count": 4,
      "outputs": []
    },
    {
      "cell_type": "markdown",
      "source": [
        "# Data Load\n",
        "- Surived:0=사망, 1=생존\n",
        "- Pclass: 1=1등석, 2=2등석, 3=3등석\n",
        "- Sex:male=남성, female=여성\n",
        "- Age: 나이\n",
        "- SibSp: 타이타닉 호에 동승한 자매/배우자의 수\n",
        "- Parch: 타이타닉 호에 동승한 부모/자식의 수\n",
        "- Ticket: 티켓 번호\n",
        "- Fare: 승객 요금\n",
        "- Cabin: 방 호수\n",
        "- Embarked: 탑승지; C=셰르부르, Q=퀴즈타운, S=사우샘프턴"
      ],
      "metadata": {
        "id": "QJFjBluej5Y1"
      }
    },
    {
      "cell_type": "code",
      "source": [
        "# 데이터 시각화 라이브러리 \n",
        "import pandas as pd\n",
        "import numpy as np\n",
        "import matplotlib.pyplot as plt"
      ],
      "metadata": {
        "id": "KGHHGbE1j4_9"
      },
      "execution_count": 5,
      "outputs": []
    },
    {
      "cell_type": "code",
      "source": [
        "train = pd.read_csv(args.train_csv) # pd.read_scv()를 통한 데이터 불러오기\n",
        "print(f'{train.shape}') # 기본적인 shape 확인\n",
        "train.head()"
      ],
      "metadata": {
        "colab": {
          "base_uri": "https://localhost:8080/",
          "height": 444
        },
        "id": "tvABzdLrere8",
        "outputId": "e8ae3b25-72fa-4296-db60-b75d5f69d9fe"
      },
      "execution_count": 6,
      "outputs": [
        {
          "output_type": "stream",
          "name": "stdout",
          "text": [
            "(916, 12)\n"
          ]
        },
        {
          "output_type": "execute_result",
          "data": {
            "text/plain": [
              "   passengerid  survived  pclass  \\\n",
              "0            0         0       2   \n",
              "1            1         0       3   \n",
              "2            2         1       1   \n",
              "3            3         1       3   \n",
              "4            4         0       2   \n",
              "\n",
              "                                                name  gender   age  sibsp  \\\n",
              "0                     Wheeler, Mr. Edwin Frederick\"\"    male   NaN      0   \n",
              "1                                 Henry, Miss. Delia  female   NaN      0   \n",
              "2  Hays, Mrs. Charles Melville (Clara Jennings Gr...  female  52.0      1   \n",
              "3       Andersson, Mr. August Edvard (\"Wennerstrom\")    male  27.0      0   \n",
              "4                                  Hold, Mr. Stephen    male  44.0      1   \n",
              "\n",
              "   parch         ticket     fare cabin embarked  \n",
              "0      0  SC/PARIS 2159  12.8750   NaN        S  \n",
              "1      0         382649   7.7500   NaN        Q  \n",
              "2      1          12749  93.5000   B69        S  \n",
              "3      0         350043   7.7958   NaN        S  \n",
              "4      0          26707  26.0000   NaN        S  "
            ],
            "text/html": [
              "\n",
              "  <div id=\"df-94bf3b82-542f-43bc-a907-14e839df8914\">\n",
              "    <div class=\"colab-df-container\">\n",
              "      <div>\n",
              "<style scoped>\n",
              "    .dataframe tbody tr th:only-of-type {\n",
              "        vertical-align: middle;\n",
              "    }\n",
              "\n",
              "    .dataframe tbody tr th {\n",
              "        vertical-align: top;\n",
              "    }\n",
              "\n",
              "    .dataframe thead th {\n",
              "        text-align: right;\n",
              "    }\n",
              "</style>\n",
              "<table border=\"1\" class=\"dataframe\">\n",
              "  <thead>\n",
              "    <tr style=\"text-align: right;\">\n",
              "      <th></th>\n",
              "      <th>passengerid</th>\n",
              "      <th>survived</th>\n",
              "      <th>pclass</th>\n",
              "      <th>name</th>\n",
              "      <th>gender</th>\n",
              "      <th>age</th>\n",
              "      <th>sibsp</th>\n",
              "      <th>parch</th>\n",
              "      <th>ticket</th>\n",
              "      <th>fare</th>\n",
              "      <th>cabin</th>\n",
              "      <th>embarked</th>\n",
              "    </tr>\n",
              "  </thead>\n",
              "  <tbody>\n",
              "    <tr>\n",
              "      <th>0</th>\n",
              "      <td>0</td>\n",
              "      <td>0</td>\n",
              "      <td>2</td>\n",
              "      <td>Wheeler, Mr. Edwin Frederick\"\"</td>\n",
              "      <td>male</td>\n",
              "      <td>NaN</td>\n",
              "      <td>0</td>\n",
              "      <td>0</td>\n",
              "      <td>SC/PARIS 2159</td>\n",
              "      <td>12.8750</td>\n",
              "      <td>NaN</td>\n",
              "      <td>S</td>\n",
              "    </tr>\n",
              "    <tr>\n",
              "      <th>1</th>\n",
              "      <td>1</td>\n",
              "      <td>0</td>\n",
              "      <td>3</td>\n",
              "      <td>Henry, Miss. Delia</td>\n",
              "      <td>female</td>\n",
              "      <td>NaN</td>\n",
              "      <td>0</td>\n",
              "      <td>0</td>\n",
              "      <td>382649</td>\n",
              "      <td>7.7500</td>\n",
              "      <td>NaN</td>\n",
              "      <td>Q</td>\n",
              "    </tr>\n",
              "    <tr>\n",
              "      <th>2</th>\n",
              "      <td>2</td>\n",
              "      <td>1</td>\n",
              "      <td>1</td>\n",
              "      <td>Hays, Mrs. Charles Melville (Clara Jennings Gr...</td>\n",
              "      <td>female</td>\n",
              "      <td>52.0</td>\n",
              "      <td>1</td>\n",
              "      <td>1</td>\n",
              "      <td>12749</td>\n",
              "      <td>93.5000</td>\n",
              "      <td>B69</td>\n",
              "      <td>S</td>\n",
              "    </tr>\n",
              "    <tr>\n",
              "      <th>3</th>\n",
              "      <td>3</td>\n",
              "      <td>1</td>\n",
              "      <td>3</td>\n",
              "      <td>Andersson, Mr. August Edvard (\"Wennerstrom\")</td>\n",
              "      <td>male</td>\n",
              "      <td>27.0</td>\n",
              "      <td>0</td>\n",
              "      <td>0</td>\n",
              "      <td>350043</td>\n",
              "      <td>7.7958</td>\n",
              "      <td>NaN</td>\n",
              "      <td>S</td>\n",
              "    </tr>\n",
              "    <tr>\n",
              "      <th>4</th>\n",
              "      <td>4</td>\n",
              "      <td>0</td>\n",
              "      <td>2</td>\n",
              "      <td>Hold, Mr. Stephen</td>\n",
              "      <td>male</td>\n",
              "      <td>44.0</td>\n",
              "      <td>1</td>\n",
              "      <td>0</td>\n",
              "      <td>26707</td>\n",
              "      <td>26.0000</td>\n",
              "      <td>NaN</td>\n",
              "      <td>S</td>\n",
              "    </tr>\n",
              "  </tbody>\n",
              "</table>\n",
              "</div>\n",
              "      <button class=\"colab-df-convert\" onclick=\"convertToInteractive('df-94bf3b82-542f-43bc-a907-14e839df8914')\"\n",
              "              title=\"Convert this dataframe to an interactive table.\"\n",
              "              style=\"display:none;\">\n",
              "        \n",
              "  <svg xmlns=\"http://www.w3.org/2000/svg\" height=\"24px\"viewBox=\"0 0 24 24\"\n",
              "       width=\"24px\">\n",
              "    <path d=\"M0 0h24v24H0V0z\" fill=\"none\"/>\n",
              "    <path d=\"M18.56 5.44l.94 2.06.94-2.06 2.06-.94-2.06-.94-.94-2.06-.94 2.06-2.06.94zm-11 1L8.5 8.5l.94-2.06 2.06-.94-2.06-.94L8.5 2.5l-.94 2.06-2.06.94zm10 10l.94 2.06.94-2.06 2.06-.94-2.06-.94-.94-2.06-.94 2.06-2.06.94z\"/><path d=\"M17.41 7.96l-1.37-1.37c-.4-.4-.92-.59-1.43-.59-.52 0-1.04.2-1.43.59L10.3 9.45l-7.72 7.72c-.78.78-.78 2.05 0 2.83L4 21.41c.39.39.9.59 1.41.59.51 0 1.02-.2 1.41-.59l7.78-7.78 2.81-2.81c.8-.78.8-2.07 0-2.86zM5.41 20L4 18.59l7.72-7.72 1.47 1.35L5.41 20z\"/>\n",
              "  </svg>\n",
              "      </button>\n",
              "      \n",
              "  <style>\n",
              "    .colab-df-container {\n",
              "      display:flex;\n",
              "      flex-wrap:wrap;\n",
              "      gap: 12px;\n",
              "    }\n",
              "\n",
              "    .colab-df-convert {\n",
              "      background-color: #E8F0FE;\n",
              "      border: none;\n",
              "      border-radius: 50%;\n",
              "      cursor: pointer;\n",
              "      display: none;\n",
              "      fill: #1967D2;\n",
              "      height: 32px;\n",
              "      padding: 0 0 0 0;\n",
              "      width: 32px;\n",
              "    }\n",
              "\n",
              "    .colab-df-convert:hover {\n",
              "      background-color: #E2EBFA;\n",
              "      box-shadow: 0px 1px 2px rgba(60, 64, 67, 0.3), 0px 1px 3px 1px rgba(60, 64, 67, 0.15);\n",
              "      fill: #174EA6;\n",
              "    }\n",
              "\n",
              "    [theme=dark] .colab-df-convert {\n",
              "      background-color: #3B4455;\n",
              "      fill: #D2E3FC;\n",
              "    }\n",
              "\n",
              "    [theme=dark] .colab-df-convert:hover {\n",
              "      background-color: #434B5C;\n",
              "      box-shadow: 0px 1px 3px 1px rgba(0, 0, 0, 0.15);\n",
              "      filter: drop-shadow(0px 1px 2px rgba(0, 0, 0, 0.3));\n",
              "      fill: #FFFFFF;\n",
              "    }\n",
              "  </style>\n",
              "\n",
              "      <script>\n",
              "        const buttonEl =\n",
              "          document.querySelector('#df-94bf3b82-542f-43bc-a907-14e839df8914 button.colab-df-convert');\n",
              "        buttonEl.style.display =\n",
              "          google.colab.kernel.accessAllowed ? 'block' : 'none';\n",
              "\n",
              "        async function convertToInteractive(key) {\n",
              "          const element = document.querySelector('#df-94bf3b82-542f-43bc-a907-14e839df8914');\n",
              "          const dataTable =\n",
              "            await google.colab.kernel.invokeFunction('convertToInteractive',\n",
              "                                                     [key], {});\n",
              "          if (!dataTable) return;\n",
              "\n",
              "          const docLinkHtml = 'Like what you see? Visit the ' +\n",
              "            '<a target=\"_blank\" href=https://colab.research.google.com/notebooks/data_table.ipynb>data table notebook</a>'\n",
              "            + ' to learn more about interactive tables.';\n",
              "          element.innerHTML = '';\n",
              "          dataTable['output_type'] = 'display_data';\n",
              "          await google.colab.output.renderOutput(dataTable, element);\n",
              "          const docLink = document.createElement('div');\n",
              "          docLink.innerHTML = docLinkHtml;\n",
              "          element.appendChild(docLink);\n",
              "        }\n",
              "      </script>\n",
              "    </div>\n",
              "  </div>\n",
              "  "
            ]
          },
          "metadata": {},
          "execution_count": 6
        }
      ]
    },
    {
      "cell_type": "code",
      "source": [
        "test = pd.read_csv(args.test_csv)\n",
        "print(f'{test.shape}')\n",
        "test.head()"
      ],
      "metadata": {
        "colab": {
          "base_uri": "https://localhost:8080/",
          "height": 566
        },
        "id": "Et19wDNGkUCg",
        "outputId": "1576c740-b40b-42ea-f7d3-2572302c9c37"
      },
      "execution_count": 7,
      "outputs": [
        {
          "output_type": "stream",
          "name": "stdout",
          "text": [
            "(393, 11)\n"
          ]
        },
        {
          "output_type": "execute_result",
          "data": {
            "text/plain": [
              "   passengerid  pclass                                        name  gender  \\\n",
              "0          916       3                 McGowan, Miss. Anna \"Annie\"  female   \n",
              "1          917       2                         Pinsky, Mrs. (Rosa)  female   \n",
              "2          918       3           McCarthy, Miss. Catherine Katie\"\"  female   \n",
              "3          919       3      Franklin, Mr. Charles (Charles Fardon)    male   \n",
              "4          920       1  Wick, Mrs. George Dennick (Mary Hitchcock)  female   \n",
              "\n",
              "    age  sibsp  parch              ticket      fare cabin embarked  \n",
              "0  15.0      0      0              330923    8.0292   NaN        Q  \n",
              "1  32.0      0      0              234604   13.0000   NaN        S  \n",
              "2   NaN      0      0              383123    7.7500   NaN        Q  \n",
              "3   NaN      0      0  SOTON/O.Q. 3101314    7.2500   NaN        S  \n",
              "4  45.0      1      1               36928  164.8667   NaN        S  "
            ],
            "text/html": [
              "\n",
              "  <div id=\"df-f06a1d33-0fab-47cd-b168-651302f3d9ae\">\n",
              "    <div class=\"colab-df-container\">\n",
              "      <div>\n",
              "<style scoped>\n",
              "    .dataframe tbody tr th:only-of-type {\n",
              "        vertical-align: middle;\n",
              "    }\n",
              "\n",
              "    .dataframe tbody tr th {\n",
              "        vertical-align: top;\n",
              "    }\n",
              "\n",
              "    .dataframe thead th {\n",
              "        text-align: right;\n",
              "    }\n",
              "</style>\n",
              "<table border=\"1\" class=\"dataframe\">\n",
              "  <thead>\n",
              "    <tr style=\"text-align: right;\">\n",
              "      <th></th>\n",
              "      <th>passengerid</th>\n",
              "      <th>pclass</th>\n",
              "      <th>name</th>\n",
              "      <th>gender</th>\n",
              "      <th>age</th>\n",
              "      <th>sibsp</th>\n",
              "      <th>parch</th>\n",
              "      <th>ticket</th>\n",
              "      <th>fare</th>\n",
              "      <th>cabin</th>\n",
              "      <th>embarked</th>\n",
              "    </tr>\n",
              "  </thead>\n",
              "  <tbody>\n",
              "    <tr>\n",
              "      <th>0</th>\n",
              "      <td>916</td>\n",
              "      <td>3</td>\n",
              "      <td>McGowan, Miss. Anna \"Annie\"</td>\n",
              "      <td>female</td>\n",
              "      <td>15.0</td>\n",
              "      <td>0</td>\n",
              "      <td>0</td>\n",
              "      <td>330923</td>\n",
              "      <td>8.0292</td>\n",
              "      <td>NaN</td>\n",
              "      <td>Q</td>\n",
              "    </tr>\n",
              "    <tr>\n",
              "      <th>1</th>\n",
              "      <td>917</td>\n",
              "      <td>2</td>\n",
              "      <td>Pinsky, Mrs. (Rosa)</td>\n",
              "      <td>female</td>\n",
              "      <td>32.0</td>\n",
              "      <td>0</td>\n",
              "      <td>0</td>\n",
              "      <td>234604</td>\n",
              "      <td>13.0000</td>\n",
              "      <td>NaN</td>\n",
              "      <td>S</td>\n",
              "    </tr>\n",
              "    <tr>\n",
              "      <th>2</th>\n",
              "      <td>918</td>\n",
              "      <td>3</td>\n",
              "      <td>McCarthy, Miss. Catherine Katie\"\"</td>\n",
              "      <td>female</td>\n",
              "      <td>NaN</td>\n",
              "      <td>0</td>\n",
              "      <td>0</td>\n",
              "      <td>383123</td>\n",
              "      <td>7.7500</td>\n",
              "      <td>NaN</td>\n",
              "      <td>Q</td>\n",
              "    </tr>\n",
              "    <tr>\n",
              "      <th>3</th>\n",
              "      <td>919</td>\n",
              "      <td>3</td>\n",
              "      <td>Franklin, Mr. Charles (Charles Fardon)</td>\n",
              "      <td>male</td>\n",
              "      <td>NaN</td>\n",
              "      <td>0</td>\n",
              "      <td>0</td>\n",
              "      <td>SOTON/O.Q. 3101314</td>\n",
              "      <td>7.2500</td>\n",
              "      <td>NaN</td>\n",
              "      <td>S</td>\n",
              "    </tr>\n",
              "    <tr>\n",
              "      <th>4</th>\n",
              "      <td>920</td>\n",
              "      <td>1</td>\n",
              "      <td>Wick, Mrs. George Dennick (Mary Hitchcock)</td>\n",
              "      <td>female</td>\n",
              "      <td>45.0</td>\n",
              "      <td>1</td>\n",
              "      <td>1</td>\n",
              "      <td>36928</td>\n",
              "      <td>164.8667</td>\n",
              "      <td>NaN</td>\n",
              "      <td>S</td>\n",
              "    </tr>\n",
              "  </tbody>\n",
              "</table>\n",
              "</div>\n",
              "      <button class=\"colab-df-convert\" onclick=\"convertToInteractive('df-f06a1d33-0fab-47cd-b168-651302f3d9ae')\"\n",
              "              title=\"Convert this dataframe to an interactive table.\"\n",
              "              style=\"display:none;\">\n",
              "        \n",
              "  <svg xmlns=\"http://www.w3.org/2000/svg\" height=\"24px\"viewBox=\"0 0 24 24\"\n",
              "       width=\"24px\">\n",
              "    <path d=\"M0 0h24v24H0V0z\" fill=\"none\"/>\n",
              "    <path d=\"M18.56 5.44l.94 2.06.94-2.06 2.06-.94-2.06-.94-.94-2.06-.94 2.06-2.06.94zm-11 1L8.5 8.5l.94-2.06 2.06-.94-2.06-.94L8.5 2.5l-.94 2.06-2.06.94zm10 10l.94 2.06.94-2.06 2.06-.94-2.06-.94-.94-2.06-.94 2.06-2.06.94z\"/><path d=\"M17.41 7.96l-1.37-1.37c-.4-.4-.92-.59-1.43-.59-.52 0-1.04.2-1.43.59L10.3 9.45l-7.72 7.72c-.78.78-.78 2.05 0 2.83L4 21.41c.39.39.9.59 1.41.59.51 0 1.02-.2 1.41-.59l7.78-7.78 2.81-2.81c.8-.78.8-2.07 0-2.86zM5.41 20L4 18.59l7.72-7.72 1.47 1.35L5.41 20z\"/>\n",
              "  </svg>\n",
              "      </button>\n",
              "      \n",
              "  <style>\n",
              "    .colab-df-container {\n",
              "      display:flex;\n",
              "      flex-wrap:wrap;\n",
              "      gap: 12px;\n",
              "    }\n",
              "\n",
              "    .colab-df-convert {\n",
              "      background-color: #E8F0FE;\n",
              "      border: none;\n",
              "      border-radius: 50%;\n",
              "      cursor: pointer;\n",
              "      display: none;\n",
              "      fill: #1967D2;\n",
              "      height: 32px;\n",
              "      padding: 0 0 0 0;\n",
              "      width: 32px;\n",
              "    }\n",
              "\n",
              "    .colab-df-convert:hover {\n",
              "      background-color: #E2EBFA;\n",
              "      box-shadow: 0px 1px 2px rgba(60, 64, 67, 0.3), 0px 1px 3px 1px rgba(60, 64, 67, 0.15);\n",
              "      fill: #174EA6;\n",
              "    }\n",
              "\n",
              "    [theme=dark] .colab-df-convert {\n",
              "      background-color: #3B4455;\n",
              "      fill: #D2E3FC;\n",
              "    }\n",
              "\n",
              "    [theme=dark] .colab-df-convert:hover {\n",
              "      background-color: #434B5C;\n",
              "      box-shadow: 0px 1px 3px 1px rgba(0, 0, 0, 0.15);\n",
              "      filter: drop-shadow(0px 1px 2px rgba(0, 0, 0, 0.3));\n",
              "      fill: #FFFFFF;\n",
              "    }\n",
              "  </style>\n",
              "\n",
              "      <script>\n",
              "        const buttonEl =\n",
              "          document.querySelector('#df-f06a1d33-0fab-47cd-b168-651302f3d9ae button.colab-df-convert');\n",
              "        buttonEl.style.display =\n",
              "          google.colab.kernel.accessAllowed ? 'block' : 'none';\n",
              "\n",
              "        async function convertToInteractive(key) {\n",
              "          const element = document.querySelector('#df-f06a1d33-0fab-47cd-b168-651302f3d9ae');\n",
              "          const dataTable =\n",
              "            await google.colab.kernel.invokeFunction('convertToInteractive',\n",
              "                                                     [key], {});\n",
              "          if (!dataTable) return;\n",
              "\n",
              "          const docLinkHtml = 'Like what you see? Visit the ' +\n",
              "            '<a target=\"_blank\" href=https://colab.research.google.com/notebooks/data_table.ipynb>data table notebook</a>'\n",
              "            + ' to learn more about interactive tables.';\n",
              "          element.innerHTML = '';\n",
              "          dataTable['output_type'] = 'display_data';\n",
              "          await google.colab.output.renderOutput(dataTable, element);\n",
              "          const docLink = document.createElement('div');\n",
              "          docLink.innerHTML = docLinkHtml;\n",
              "          element.appendChild(docLink);\n",
              "        }\n",
              "      </script>\n",
              "    </div>\n",
              "  </div>\n",
              "  "
            ]
          },
          "metadata": {},
          "execution_count": 7
        }
      ]
    },
    {
      "cell_type": "code",
      "source": [
        "train.describe(include = 'all')"
      ],
      "metadata": {
        "colab": {
          "base_uri": "https://localhost:8080/",
          "height": 493
        },
        "id": "b16ttfb9euD9",
        "outputId": "39b42ecb-0b19-468d-9422-de513cf1f651"
      },
      "execution_count": 8,
      "outputs": [
        {
          "output_type": "execute_result",
          "data": {
            "text/plain": [
              "        passengerid    survived      pclass                  name gender  \\\n",
              "count    916.000000  916.000000  916.000000                   916    916   \n",
              "unique          NaN         NaN         NaN                   915      2   \n",
              "top             NaN         NaN         NaN  Connolly, Miss. Kate   male   \n",
              "freq            NaN         NaN         NaN                     2    589   \n",
              "mean     457.500000    0.377729    2.292576                   NaN    NaN   \n",
              "std      264.570721    0.485084    0.838675                   NaN    NaN   \n",
              "min        0.000000    0.000000    1.000000                   NaN    NaN   \n",
              "25%      228.750000    0.000000    2.000000                   NaN    NaN   \n",
              "50%      457.500000    0.000000    3.000000                   NaN    NaN   \n",
              "75%      686.250000    1.000000    3.000000                   NaN    NaN   \n",
              "max      915.000000    1.000000    3.000000                   NaN    NaN   \n",
              "\n",
              "               age       sibsp       parch    ticket        fare cabin  \\\n",
              "count   736.000000  916.000000  916.000000       916  916.000000   198   \n",
              "unique         NaN         NaN         NaN       703         NaN   146   \n",
              "top            NaN         NaN         NaN  CA. 2343         NaN    G6   \n",
              "freq           NaN         NaN         NaN         7         NaN     4   \n",
              "mean     29.698370    0.507642    0.361354       NaN   32.402710   NaN   \n",
              "std      14.185627    1.044866    0.828054       NaN   50.506411   NaN   \n",
              "min       0.170000    0.000000    0.000000       NaN    0.000000   NaN   \n",
              "25%      21.000000    0.000000    0.000000       NaN    7.895800   NaN   \n",
              "50%      28.000000    0.000000    0.000000       NaN   14.458300   NaN   \n",
              "75%      38.000000    1.000000    0.000000       NaN   30.017700   NaN   \n",
              "max      80.000000    8.000000    9.000000       NaN  512.329200   NaN   \n",
              "\n",
              "       embarked  \n",
              "count       915  \n",
              "unique        3  \n",
              "top           S  \n",
              "freq        645  \n",
              "mean        NaN  \n",
              "std         NaN  \n",
              "min         NaN  \n",
              "25%         NaN  \n",
              "50%         NaN  \n",
              "75%         NaN  \n",
              "max         NaN  "
            ],
            "text/html": [
              "\n",
              "  <div id=\"df-b5e9d2fe-6d56-4a00-86ef-5c78b4fcc029\">\n",
              "    <div class=\"colab-df-container\">\n",
              "      <div>\n",
              "<style scoped>\n",
              "    .dataframe tbody tr th:only-of-type {\n",
              "        vertical-align: middle;\n",
              "    }\n",
              "\n",
              "    .dataframe tbody tr th {\n",
              "        vertical-align: top;\n",
              "    }\n",
              "\n",
              "    .dataframe thead th {\n",
              "        text-align: right;\n",
              "    }\n",
              "</style>\n",
              "<table border=\"1\" class=\"dataframe\">\n",
              "  <thead>\n",
              "    <tr style=\"text-align: right;\">\n",
              "      <th></th>\n",
              "      <th>passengerid</th>\n",
              "      <th>survived</th>\n",
              "      <th>pclass</th>\n",
              "      <th>name</th>\n",
              "      <th>gender</th>\n",
              "      <th>age</th>\n",
              "      <th>sibsp</th>\n",
              "      <th>parch</th>\n",
              "      <th>ticket</th>\n",
              "      <th>fare</th>\n",
              "      <th>cabin</th>\n",
              "      <th>embarked</th>\n",
              "    </tr>\n",
              "  </thead>\n",
              "  <tbody>\n",
              "    <tr>\n",
              "      <th>count</th>\n",
              "      <td>916.000000</td>\n",
              "      <td>916.000000</td>\n",
              "      <td>916.000000</td>\n",
              "      <td>916</td>\n",
              "      <td>916</td>\n",
              "      <td>736.000000</td>\n",
              "      <td>916.000000</td>\n",
              "      <td>916.000000</td>\n",
              "      <td>916</td>\n",
              "      <td>916.000000</td>\n",
              "      <td>198</td>\n",
              "      <td>915</td>\n",
              "    </tr>\n",
              "    <tr>\n",
              "      <th>unique</th>\n",
              "      <td>NaN</td>\n",
              "      <td>NaN</td>\n",
              "      <td>NaN</td>\n",
              "      <td>915</td>\n",
              "      <td>2</td>\n",
              "      <td>NaN</td>\n",
              "      <td>NaN</td>\n",
              "      <td>NaN</td>\n",
              "      <td>703</td>\n",
              "      <td>NaN</td>\n",
              "      <td>146</td>\n",
              "      <td>3</td>\n",
              "    </tr>\n",
              "    <tr>\n",
              "      <th>top</th>\n",
              "      <td>NaN</td>\n",
              "      <td>NaN</td>\n",
              "      <td>NaN</td>\n",
              "      <td>Connolly, Miss. Kate</td>\n",
              "      <td>male</td>\n",
              "      <td>NaN</td>\n",
              "      <td>NaN</td>\n",
              "      <td>NaN</td>\n",
              "      <td>CA. 2343</td>\n",
              "      <td>NaN</td>\n",
              "      <td>G6</td>\n",
              "      <td>S</td>\n",
              "    </tr>\n",
              "    <tr>\n",
              "      <th>freq</th>\n",
              "      <td>NaN</td>\n",
              "      <td>NaN</td>\n",
              "      <td>NaN</td>\n",
              "      <td>2</td>\n",
              "      <td>589</td>\n",
              "      <td>NaN</td>\n",
              "      <td>NaN</td>\n",
              "      <td>NaN</td>\n",
              "      <td>7</td>\n",
              "      <td>NaN</td>\n",
              "      <td>4</td>\n",
              "      <td>645</td>\n",
              "    </tr>\n",
              "    <tr>\n",
              "      <th>mean</th>\n",
              "      <td>457.500000</td>\n",
              "      <td>0.377729</td>\n",
              "      <td>2.292576</td>\n",
              "      <td>NaN</td>\n",
              "      <td>NaN</td>\n",
              "      <td>29.698370</td>\n",
              "      <td>0.507642</td>\n",
              "      <td>0.361354</td>\n",
              "      <td>NaN</td>\n",
              "      <td>32.402710</td>\n",
              "      <td>NaN</td>\n",
              "      <td>NaN</td>\n",
              "    </tr>\n",
              "    <tr>\n",
              "      <th>std</th>\n",
              "      <td>264.570721</td>\n",
              "      <td>0.485084</td>\n",
              "      <td>0.838675</td>\n",
              "      <td>NaN</td>\n",
              "      <td>NaN</td>\n",
              "      <td>14.185627</td>\n",
              "      <td>1.044866</td>\n",
              "      <td>0.828054</td>\n",
              "      <td>NaN</td>\n",
              "      <td>50.506411</td>\n",
              "      <td>NaN</td>\n",
              "      <td>NaN</td>\n",
              "    </tr>\n",
              "    <tr>\n",
              "      <th>min</th>\n",
              "      <td>0.000000</td>\n",
              "      <td>0.000000</td>\n",
              "      <td>1.000000</td>\n",
              "      <td>NaN</td>\n",
              "      <td>NaN</td>\n",
              "      <td>0.170000</td>\n",
              "      <td>0.000000</td>\n",
              "      <td>0.000000</td>\n",
              "      <td>NaN</td>\n",
              "      <td>0.000000</td>\n",
              "      <td>NaN</td>\n",
              "      <td>NaN</td>\n",
              "    </tr>\n",
              "    <tr>\n",
              "      <th>25%</th>\n",
              "      <td>228.750000</td>\n",
              "      <td>0.000000</td>\n",
              "      <td>2.000000</td>\n",
              "      <td>NaN</td>\n",
              "      <td>NaN</td>\n",
              "      <td>21.000000</td>\n",
              "      <td>0.000000</td>\n",
              "      <td>0.000000</td>\n",
              "      <td>NaN</td>\n",
              "      <td>7.895800</td>\n",
              "      <td>NaN</td>\n",
              "      <td>NaN</td>\n",
              "    </tr>\n",
              "    <tr>\n",
              "      <th>50%</th>\n",
              "      <td>457.500000</td>\n",
              "      <td>0.000000</td>\n",
              "      <td>3.000000</td>\n",
              "      <td>NaN</td>\n",
              "      <td>NaN</td>\n",
              "      <td>28.000000</td>\n",
              "      <td>0.000000</td>\n",
              "      <td>0.000000</td>\n",
              "      <td>NaN</td>\n",
              "      <td>14.458300</td>\n",
              "      <td>NaN</td>\n",
              "      <td>NaN</td>\n",
              "    </tr>\n",
              "    <tr>\n",
              "      <th>75%</th>\n",
              "      <td>686.250000</td>\n",
              "      <td>1.000000</td>\n",
              "      <td>3.000000</td>\n",
              "      <td>NaN</td>\n",
              "      <td>NaN</td>\n",
              "      <td>38.000000</td>\n",
              "      <td>1.000000</td>\n",
              "      <td>0.000000</td>\n",
              "      <td>NaN</td>\n",
              "      <td>30.017700</td>\n",
              "      <td>NaN</td>\n",
              "      <td>NaN</td>\n",
              "    </tr>\n",
              "    <tr>\n",
              "      <th>max</th>\n",
              "      <td>915.000000</td>\n",
              "      <td>1.000000</td>\n",
              "      <td>3.000000</td>\n",
              "      <td>NaN</td>\n",
              "      <td>NaN</td>\n",
              "      <td>80.000000</td>\n",
              "      <td>8.000000</td>\n",
              "      <td>9.000000</td>\n",
              "      <td>NaN</td>\n",
              "      <td>512.329200</td>\n",
              "      <td>NaN</td>\n",
              "      <td>NaN</td>\n",
              "    </tr>\n",
              "  </tbody>\n",
              "</table>\n",
              "</div>\n",
              "      <button class=\"colab-df-convert\" onclick=\"convertToInteractive('df-b5e9d2fe-6d56-4a00-86ef-5c78b4fcc029')\"\n",
              "              title=\"Convert this dataframe to an interactive table.\"\n",
              "              style=\"display:none;\">\n",
              "        \n",
              "  <svg xmlns=\"http://www.w3.org/2000/svg\" height=\"24px\"viewBox=\"0 0 24 24\"\n",
              "       width=\"24px\">\n",
              "    <path d=\"M0 0h24v24H0V0z\" fill=\"none\"/>\n",
              "    <path d=\"M18.56 5.44l.94 2.06.94-2.06 2.06-.94-2.06-.94-.94-2.06-.94 2.06-2.06.94zm-11 1L8.5 8.5l.94-2.06 2.06-.94-2.06-.94L8.5 2.5l-.94 2.06-2.06.94zm10 10l.94 2.06.94-2.06 2.06-.94-2.06-.94-.94-2.06-.94 2.06-2.06.94z\"/><path d=\"M17.41 7.96l-1.37-1.37c-.4-.4-.92-.59-1.43-.59-.52 0-1.04.2-1.43.59L10.3 9.45l-7.72 7.72c-.78.78-.78 2.05 0 2.83L4 21.41c.39.39.9.59 1.41.59.51 0 1.02-.2 1.41-.59l7.78-7.78 2.81-2.81c.8-.78.8-2.07 0-2.86zM5.41 20L4 18.59l7.72-7.72 1.47 1.35L5.41 20z\"/>\n",
              "  </svg>\n",
              "      </button>\n",
              "      \n",
              "  <style>\n",
              "    .colab-df-container {\n",
              "      display:flex;\n",
              "      flex-wrap:wrap;\n",
              "      gap: 12px;\n",
              "    }\n",
              "\n",
              "    .colab-df-convert {\n",
              "      background-color: #E8F0FE;\n",
              "      border: none;\n",
              "      border-radius: 50%;\n",
              "      cursor: pointer;\n",
              "      display: none;\n",
              "      fill: #1967D2;\n",
              "      height: 32px;\n",
              "      padding: 0 0 0 0;\n",
              "      width: 32px;\n",
              "    }\n",
              "\n",
              "    .colab-df-convert:hover {\n",
              "      background-color: #E2EBFA;\n",
              "      box-shadow: 0px 1px 2px rgba(60, 64, 67, 0.3), 0px 1px 3px 1px rgba(60, 64, 67, 0.15);\n",
              "      fill: #174EA6;\n",
              "    }\n",
              "\n",
              "    [theme=dark] .colab-df-convert {\n",
              "      background-color: #3B4455;\n",
              "      fill: #D2E3FC;\n",
              "    }\n",
              "\n",
              "    [theme=dark] .colab-df-convert:hover {\n",
              "      background-color: #434B5C;\n",
              "      box-shadow: 0px 1px 3px 1px rgba(0, 0, 0, 0.15);\n",
              "      filter: drop-shadow(0px 1px 2px rgba(0, 0, 0, 0.3));\n",
              "      fill: #FFFFFF;\n",
              "    }\n",
              "  </style>\n",
              "\n",
              "      <script>\n",
              "        const buttonEl =\n",
              "          document.querySelector('#df-b5e9d2fe-6d56-4a00-86ef-5c78b4fcc029 button.colab-df-convert');\n",
              "        buttonEl.style.display =\n",
              "          google.colab.kernel.accessAllowed ? 'block' : 'none';\n",
              "\n",
              "        async function convertToInteractive(key) {\n",
              "          const element = document.querySelector('#df-b5e9d2fe-6d56-4a00-86ef-5c78b4fcc029');\n",
              "          const dataTable =\n",
              "            await google.colab.kernel.invokeFunction('convertToInteractive',\n",
              "                                                     [key], {});\n",
              "          if (!dataTable) return;\n",
              "\n",
              "          const docLinkHtml = 'Like what you see? Visit the ' +\n",
              "            '<a target=\"_blank\" href=https://colab.research.google.com/notebooks/data_table.ipynb>data table notebook</a>'\n",
              "            + ' to learn more about interactive tables.';\n",
              "          element.innerHTML = '';\n",
              "          dataTable['output_type'] = 'display_data';\n",
              "          await google.colab.output.renderOutput(dataTable, element);\n",
              "          const docLink = document.createElement('div');\n",
              "          docLink.innerHTML = docLinkHtml;\n",
              "          element.appendChild(docLink);\n",
              "        }\n",
              "      </script>\n",
              "    </div>\n",
              "  </div>\n",
              "  "
            ]
          },
          "metadata": {},
          "execution_count": 8
        }
      ]
    },
    {
      "cell_type": "code",
      "source": [
        "test.describe(include = 'all')"
      ],
      "metadata": {
        "colab": {
          "base_uri": "https://localhost:8080/",
          "height": 510
        },
        "id": "qF_7bw4nk5-9",
        "outputId": "b685aa44-0d1d-49ff-cde1-c8ca92aac49f"
      },
      "execution_count": 9,
      "outputs": [
        {
          "output_type": "execute_result",
          "data": {
            "text/plain": [
              "        passengerid      pclass                         name gender  \\\n",
              "count    393.000000  393.000000                          393    393   \n",
              "unique          NaN         NaN                          393      2   \n",
              "top             NaN         NaN  McGowan, Miss. Anna \"Annie\"   male   \n",
              "freq            NaN         NaN                            1    254   \n",
              "mean    1112.000000    2.300254                          NaN    NaN   \n",
              "std      113.593574    0.836919                          NaN    NaN   \n",
              "min      916.000000    1.000000                          NaN    NaN   \n",
              "25%     1014.000000    2.000000                          NaN    NaN   \n",
              "50%     1112.000000    3.000000                          NaN    NaN   \n",
              "75%     1210.000000    3.000000                          NaN    NaN   \n",
              "max     1308.000000    3.000000                          NaN    NaN   \n",
              "\n",
              "               age       sibsp       parch  ticket        fare cabin embarked  \n",
              "count   310.000000  393.000000  393.000000     393  392.000000    97      392  \n",
              "unique         NaN         NaN         NaN     345         NaN    86        3  \n",
              "top            NaN         NaN         NaN  220845         NaN    F4        S  \n",
              "freq           NaN         NaN         NaN       4         NaN     4      269  \n",
              "mean     30.315065    0.478372    0.440204     NaN   35.381643   NaN      NaN  \n",
              "std      14.955056    1.035180    0.946051     NaN   54.582654   NaN      NaN  \n",
              "min       0.420000    0.000000    0.000000     NaN    0.000000   NaN      NaN  \n",
              "25%      21.000000    0.000000    0.000000     NaN    7.895800   NaN      NaN  \n",
              "50%      28.000000    0.000000    0.000000     NaN   14.281250   NaN      NaN  \n",
              "75%      40.000000    1.000000    1.000000     NaN   35.125000   NaN      NaN  \n",
              "max      67.000000    8.000000    9.000000     NaN  512.329200   NaN      NaN  "
            ],
            "text/html": [
              "\n",
              "  <div id=\"df-3107f317-a419-4ed7-89b9-44b888d11cea\">\n",
              "    <div class=\"colab-df-container\">\n",
              "      <div>\n",
              "<style scoped>\n",
              "    .dataframe tbody tr th:only-of-type {\n",
              "        vertical-align: middle;\n",
              "    }\n",
              "\n",
              "    .dataframe tbody tr th {\n",
              "        vertical-align: top;\n",
              "    }\n",
              "\n",
              "    .dataframe thead th {\n",
              "        text-align: right;\n",
              "    }\n",
              "</style>\n",
              "<table border=\"1\" class=\"dataframe\">\n",
              "  <thead>\n",
              "    <tr style=\"text-align: right;\">\n",
              "      <th></th>\n",
              "      <th>passengerid</th>\n",
              "      <th>pclass</th>\n",
              "      <th>name</th>\n",
              "      <th>gender</th>\n",
              "      <th>age</th>\n",
              "      <th>sibsp</th>\n",
              "      <th>parch</th>\n",
              "      <th>ticket</th>\n",
              "      <th>fare</th>\n",
              "      <th>cabin</th>\n",
              "      <th>embarked</th>\n",
              "    </tr>\n",
              "  </thead>\n",
              "  <tbody>\n",
              "    <tr>\n",
              "      <th>count</th>\n",
              "      <td>393.000000</td>\n",
              "      <td>393.000000</td>\n",
              "      <td>393</td>\n",
              "      <td>393</td>\n",
              "      <td>310.000000</td>\n",
              "      <td>393.000000</td>\n",
              "      <td>393.000000</td>\n",
              "      <td>393</td>\n",
              "      <td>392.000000</td>\n",
              "      <td>97</td>\n",
              "      <td>392</td>\n",
              "    </tr>\n",
              "    <tr>\n",
              "      <th>unique</th>\n",
              "      <td>NaN</td>\n",
              "      <td>NaN</td>\n",
              "      <td>393</td>\n",
              "      <td>2</td>\n",
              "      <td>NaN</td>\n",
              "      <td>NaN</td>\n",
              "      <td>NaN</td>\n",
              "      <td>345</td>\n",
              "      <td>NaN</td>\n",
              "      <td>86</td>\n",
              "      <td>3</td>\n",
              "    </tr>\n",
              "    <tr>\n",
              "      <th>top</th>\n",
              "      <td>NaN</td>\n",
              "      <td>NaN</td>\n",
              "      <td>McGowan, Miss. Anna \"Annie\"</td>\n",
              "      <td>male</td>\n",
              "      <td>NaN</td>\n",
              "      <td>NaN</td>\n",
              "      <td>NaN</td>\n",
              "      <td>220845</td>\n",
              "      <td>NaN</td>\n",
              "      <td>F4</td>\n",
              "      <td>S</td>\n",
              "    </tr>\n",
              "    <tr>\n",
              "      <th>freq</th>\n",
              "      <td>NaN</td>\n",
              "      <td>NaN</td>\n",
              "      <td>1</td>\n",
              "      <td>254</td>\n",
              "      <td>NaN</td>\n",
              "      <td>NaN</td>\n",
              "      <td>NaN</td>\n",
              "      <td>4</td>\n",
              "      <td>NaN</td>\n",
              "      <td>4</td>\n",
              "      <td>269</td>\n",
              "    </tr>\n",
              "    <tr>\n",
              "      <th>mean</th>\n",
              "      <td>1112.000000</td>\n",
              "      <td>2.300254</td>\n",
              "      <td>NaN</td>\n",
              "      <td>NaN</td>\n",
              "      <td>30.315065</td>\n",
              "      <td>0.478372</td>\n",
              "      <td>0.440204</td>\n",
              "      <td>NaN</td>\n",
              "      <td>35.381643</td>\n",
              "      <td>NaN</td>\n",
              "      <td>NaN</td>\n",
              "    </tr>\n",
              "    <tr>\n",
              "      <th>std</th>\n",
              "      <td>113.593574</td>\n",
              "      <td>0.836919</td>\n",
              "      <td>NaN</td>\n",
              "      <td>NaN</td>\n",
              "      <td>14.955056</td>\n",
              "      <td>1.035180</td>\n",
              "      <td>0.946051</td>\n",
              "      <td>NaN</td>\n",
              "      <td>54.582654</td>\n",
              "      <td>NaN</td>\n",
              "      <td>NaN</td>\n",
              "    </tr>\n",
              "    <tr>\n",
              "      <th>min</th>\n",
              "      <td>916.000000</td>\n",
              "      <td>1.000000</td>\n",
              "      <td>NaN</td>\n",
              "      <td>NaN</td>\n",
              "      <td>0.420000</td>\n",
              "      <td>0.000000</td>\n",
              "      <td>0.000000</td>\n",
              "      <td>NaN</td>\n",
              "      <td>0.000000</td>\n",
              "      <td>NaN</td>\n",
              "      <td>NaN</td>\n",
              "    </tr>\n",
              "    <tr>\n",
              "      <th>25%</th>\n",
              "      <td>1014.000000</td>\n",
              "      <td>2.000000</td>\n",
              "      <td>NaN</td>\n",
              "      <td>NaN</td>\n",
              "      <td>21.000000</td>\n",
              "      <td>0.000000</td>\n",
              "      <td>0.000000</td>\n",
              "      <td>NaN</td>\n",
              "      <td>7.895800</td>\n",
              "      <td>NaN</td>\n",
              "      <td>NaN</td>\n",
              "    </tr>\n",
              "    <tr>\n",
              "      <th>50%</th>\n",
              "      <td>1112.000000</td>\n",
              "      <td>3.000000</td>\n",
              "      <td>NaN</td>\n",
              "      <td>NaN</td>\n",
              "      <td>28.000000</td>\n",
              "      <td>0.000000</td>\n",
              "      <td>0.000000</td>\n",
              "      <td>NaN</td>\n",
              "      <td>14.281250</td>\n",
              "      <td>NaN</td>\n",
              "      <td>NaN</td>\n",
              "    </tr>\n",
              "    <tr>\n",
              "      <th>75%</th>\n",
              "      <td>1210.000000</td>\n",
              "      <td>3.000000</td>\n",
              "      <td>NaN</td>\n",
              "      <td>NaN</td>\n",
              "      <td>40.000000</td>\n",
              "      <td>1.000000</td>\n",
              "      <td>1.000000</td>\n",
              "      <td>NaN</td>\n",
              "      <td>35.125000</td>\n",
              "      <td>NaN</td>\n",
              "      <td>NaN</td>\n",
              "    </tr>\n",
              "    <tr>\n",
              "      <th>max</th>\n",
              "      <td>1308.000000</td>\n",
              "      <td>3.000000</td>\n",
              "      <td>NaN</td>\n",
              "      <td>NaN</td>\n",
              "      <td>67.000000</td>\n",
              "      <td>8.000000</td>\n",
              "      <td>9.000000</td>\n",
              "      <td>NaN</td>\n",
              "      <td>512.329200</td>\n",
              "      <td>NaN</td>\n",
              "      <td>NaN</td>\n",
              "    </tr>\n",
              "  </tbody>\n",
              "</table>\n",
              "</div>\n",
              "      <button class=\"colab-df-convert\" onclick=\"convertToInteractive('df-3107f317-a419-4ed7-89b9-44b888d11cea')\"\n",
              "              title=\"Convert this dataframe to an interactive table.\"\n",
              "              style=\"display:none;\">\n",
              "        \n",
              "  <svg xmlns=\"http://www.w3.org/2000/svg\" height=\"24px\"viewBox=\"0 0 24 24\"\n",
              "       width=\"24px\">\n",
              "    <path d=\"M0 0h24v24H0V0z\" fill=\"none\"/>\n",
              "    <path d=\"M18.56 5.44l.94 2.06.94-2.06 2.06-.94-2.06-.94-.94-2.06-.94 2.06-2.06.94zm-11 1L8.5 8.5l.94-2.06 2.06-.94-2.06-.94L8.5 2.5l-.94 2.06-2.06.94zm10 10l.94 2.06.94-2.06 2.06-.94-2.06-.94-.94-2.06-.94 2.06-2.06.94z\"/><path d=\"M17.41 7.96l-1.37-1.37c-.4-.4-.92-.59-1.43-.59-.52 0-1.04.2-1.43.59L10.3 9.45l-7.72 7.72c-.78.78-.78 2.05 0 2.83L4 21.41c.39.39.9.59 1.41.59.51 0 1.02-.2 1.41-.59l7.78-7.78 2.81-2.81c.8-.78.8-2.07 0-2.86zM5.41 20L4 18.59l7.72-7.72 1.47 1.35L5.41 20z\"/>\n",
              "  </svg>\n",
              "      </button>\n",
              "      \n",
              "  <style>\n",
              "    .colab-df-container {\n",
              "      display:flex;\n",
              "      flex-wrap:wrap;\n",
              "      gap: 12px;\n",
              "    }\n",
              "\n",
              "    .colab-df-convert {\n",
              "      background-color: #E8F0FE;\n",
              "      border: none;\n",
              "      border-radius: 50%;\n",
              "      cursor: pointer;\n",
              "      display: none;\n",
              "      fill: #1967D2;\n",
              "      height: 32px;\n",
              "      padding: 0 0 0 0;\n",
              "      width: 32px;\n",
              "    }\n",
              "\n",
              "    .colab-df-convert:hover {\n",
              "      background-color: #E2EBFA;\n",
              "      box-shadow: 0px 1px 2px rgba(60, 64, 67, 0.3), 0px 1px 3px 1px rgba(60, 64, 67, 0.15);\n",
              "      fill: #174EA6;\n",
              "    }\n",
              "\n",
              "    [theme=dark] .colab-df-convert {\n",
              "      background-color: #3B4455;\n",
              "      fill: #D2E3FC;\n",
              "    }\n",
              "\n",
              "    [theme=dark] .colab-df-convert:hover {\n",
              "      background-color: #434B5C;\n",
              "      box-shadow: 0px 1px 3px 1px rgba(0, 0, 0, 0.15);\n",
              "      filter: drop-shadow(0px 1px 2px rgba(0, 0, 0, 0.3));\n",
              "      fill: #FFFFFF;\n",
              "    }\n",
              "  </style>\n",
              "\n",
              "      <script>\n",
              "        const buttonEl =\n",
              "          document.querySelector('#df-3107f317-a419-4ed7-89b9-44b888d11cea button.colab-df-convert');\n",
              "        buttonEl.style.display =\n",
              "          google.colab.kernel.accessAllowed ? 'block' : 'none';\n",
              "\n",
              "        async function convertToInteractive(key) {\n",
              "          const element = document.querySelector('#df-3107f317-a419-4ed7-89b9-44b888d11cea');\n",
              "          const dataTable =\n",
              "            await google.colab.kernel.invokeFunction('convertToInteractive',\n",
              "                                                     [key], {});\n",
              "          if (!dataTable) return;\n",
              "\n",
              "          const docLinkHtml = 'Like what you see? Visit the ' +\n",
              "            '<a target=\"_blank\" href=https://colab.research.google.com/notebooks/data_table.ipynb>data table notebook</a>'\n",
              "            + ' to learn more about interactive tables.';\n",
              "          element.innerHTML = '';\n",
              "          dataTable['output_type'] = 'display_data';\n",
              "          await google.colab.output.renderOutput(dataTable, element);\n",
              "          const docLink = document.createElement('div');\n",
              "          docLink.innerHTML = docLinkHtml;\n",
              "          element.appendChild(docLink);\n",
              "        }\n",
              "      </script>\n",
              "    </div>\n",
              "  </div>\n",
              "  "
            ]
          },
          "metadata": {},
          "execution_count": 9
        }
      ]
    },
    {
      "cell_type": "code",
      "source": [
        "train.info()"
      ],
      "metadata": {
        "colab": {
          "base_uri": "https://localhost:8080/"
        },
        "id": "QvewJOWClCkQ",
        "outputId": "c68e9ef7-4e42-4976-e783-393a90fe87ac"
      },
      "execution_count": 10,
      "outputs": [
        {
          "output_type": "stream",
          "name": "stdout",
          "text": [
            "<class 'pandas.core.frame.DataFrame'>\n",
            "RangeIndex: 916 entries, 0 to 915\n",
            "Data columns (total 12 columns):\n",
            " #   Column       Non-Null Count  Dtype  \n",
            "---  ------       --------------  -----  \n",
            " 0   passengerid  916 non-null    int64  \n",
            " 1   survived     916 non-null    int64  \n",
            " 2   pclass       916 non-null    int64  \n",
            " 3   name         916 non-null    object \n",
            " 4   gender       916 non-null    object \n",
            " 5   age          736 non-null    float64\n",
            " 6   sibsp        916 non-null    int64  \n",
            " 7   parch        916 non-null    int64  \n",
            " 8   ticket       916 non-null    object \n",
            " 9   fare         916 non-null    float64\n",
            " 10  cabin        198 non-null    object \n",
            " 11  embarked     915 non-null    object \n",
            "dtypes: float64(2), int64(5), object(5)\n",
            "memory usage: 86.0+ KB\n"
          ]
        }
      ]
    },
    {
      "cell_type": "code",
      "source": [
        "test.info()"
      ],
      "metadata": {
        "colab": {
          "base_uri": "https://localhost:8080/"
        },
        "id": "SRLPtmZflHO6",
        "outputId": "0495df9f-75a5-4689-ed65-ed46f398d329"
      },
      "execution_count": 11,
      "outputs": [
        {
          "output_type": "stream",
          "name": "stdout",
          "text": [
            "<class 'pandas.core.frame.DataFrame'>\n",
            "RangeIndex: 393 entries, 0 to 392\n",
            "Data columns (total 11 columns):\n",
            " #   Column       Non-Null Count  Dtype  \n",
            "---  ------       --------------  -----  \n",
            " 0   passengerid  393 non-null    int64  \n",
            " 1   pclass       393 non-null    int64  \n",
            " 2   name         393 non-null    object \n",
            " 3   gender       393 non-null    object \n",
            " 4   age          310 non-null    float64\n",
            " 5   sibsp        393 non-null    int64  \n",
            " 6   parch        393 non-null    int64  \n",
            " 7   ticket       393 non-null    object \n",
            " 8   fare         392 non-null    float64\n",
            " 9   cabin        97 non-null     object \n",
            " 10  embarked     392 non-null    object \n",
            "dtypes: float64(2), int64(4), object(5)\n",
            "memory usage: 33.9+ KB\n"
          ]
        }
      ]
    },
    {
      "cell_type": "code",
      "source": [
        "train.isnull().sum().sort_values(ascending = False)"
      ],
      "metadata": {
        "colab": {
          "base_uri": "https://localhost:8080/"
        },
        "id": "sBp30d0uldBI",
        "outputId": "cee0468a-517b-4b93-dbca-a8ec4e10dec4"
      },
      "execution_count": 12,
      "outputs": [
        {
          "output_type": "execute_result",
          "data": {
            "text/plain": [
              "cabin          718\n",
              "age            180\n",
              "embarked         1\n",
              "passengerid      0\n",
              "survived         0\n",
              "pclass           0\n",
              "name             0\n",
              "gender           0\n",
              "sibsp            0\n",
              "parch            0\n",
              "ticket           0\n",
              "fare             0\n",
              "dtype: int64"
            ]
          },
          "metadata": {},
          "execution_count": 12
        }
      ]
    },
    {
      "cell_type": "code",
      "source": [
        "test.isnull().sum().sort_values(ascending = False)"
      ],
      "metadata": {
        "colab": {
          "base_uri": "https://localhost:8080/"
        },
        "id": "SP5zjn6xl550",
        "outputId": "fcf7f57b-d778-447f-aeee-1115983e6a2e"
      },
      "execution_count": 13,
      "outputs": [
        {
          "output_type": "execute_result",
          "data": {
            "text/plain": [
              "cabin          296\n",
              "age             83\n",
              "fare             1\n",
              "embarked         1\n",
              "passengerid      0\n",
              "pclass           0\n",
              "name             0\n",
              "gender           0\n",
              "sibsp            0\n",
              "parch            0\n",
              "ticket           0\n",
              "dtype: int64"
            ]
          },
          "metadata": {},
          "execution_count": 13
        }
      ]
    },
    {
      "cell_type": "markdown",
      "source": [
        "- train 파일에 survived 컬럼이 더 있는 것을 확인\n",
        "- train, test 둘다 결측치가 있는 것을 확인\n",
        "- 클린 작업이 필요"
      ],
      "metadata": {
        "id": "mdvd6tSplNzu"
      }
    },
    {
      "cell_type": "markdown",
      "source": [
        "# EDA"
      ],
      "metadata": {
        "id": "kq-gUQQinKQ9"
      }
    },
    {
      "cell_type": "markdown",
      "source": [
        "## Column Classification"
      ],
      "metadata": {
        "id": "Rm2gbBHtwQfP"
      }
    },
    {
      "cell_type": "code",
      "source": [
        "train.info()"
      ],
      "metadata": {
        "colab": {
          "base_uri": "https://localhost:8080/"
        },
        "id": "5mZhZtS9tmUm",
        "outputId": "1fd30594-81a6-4071-c5ba-5a85feb14ea2"
      },
      "execution_count": 14,
      "outputs": [
        {
          "output_type": "stream",
          "name": "stdout",
          "text": [
            "<class 'pandas.core.frame.DataFrame'>\n",
            "RangeIndex: 916 entries, 0 to 915\n",
            "Data columns (total 12 columns):\n",
            " #   Column       Non-Null Count  Dtype  \n",
            "---  ------       --------------  -----  \n",
            " 0   passengerid  916 non-null    int64  \n",
            " 1   survived     916 non-null    int64  \n",
            " 2   pclass       916 non-null    int64  \n",
            " 3   name         916 non-null    object \n",
            " 4   gender       916 non-null    object \n",
            " 5   age          736 non-null    float64\n",
            " 6   sibsp        916 non-null    int64  \n",
            " 7   parch        916 non-null    int64  \n",
            " 8   ticket       916 non-null    object \n",
            " 9   fare         916 non-null    float64\n",
            " 10  cabin        198 non-null    object \n",
            " 11  embarked     915 non-null    object \n",
            "dtypes: float64(2), int64(5), object(5)\n",
            "memory usage: 86.0+ KB\n"
          ]
        }
      ]
    },
    {
      "cell_type": "code",
      "source": [
        "train.describe(include = 'all')"
      ],
      "metadata": {
        "colab": {
          "base_uri": "https://localhost:8080/",
          "height": 493
        },
        "id": "xHWi7ep_vJue",
        "outputId": "9aa356a8-a1ba-4472-c945-4413dc9474e1"
      },
      "execution_count": 15,
      "outputs": [
        {
          "output_type": "execute_result",
          "data": {
            "text/plain": [
              "        passengerid    survived      pclass                  name gender  \\\n",
              "count    916.000000  916.000000  916.000000                   916    916   \n",
              "unique          NaN         NaN         NaN                   915      2   \n",
              "top             NaN         NaN         NaN  Connolly, Miss. Kate   male   \n",
              "freq            NaN         NaN         NaN                     2    589   \n",
              "mean     457.500000    0.377729    2.292576                   NaN    NaN   \n",
              "std      264.570721    0.485084    0.838675                   NaN    NaN   \n",
              "min        0.000000    0.000000    1.000000                   NaN    NaN   \n",
              "25%      228.750000    0.000000    2.000000                   NaN    NaN   \n",
              "50%      457.500000    0.000000    3.000000                   NaN    NaN   \n",
              "75%      686.250000    1.000000    3.000000                   NaN    NaN   \n",
              "max      915.000000    1.000000    3.000000                   NaN    NaN   \n",
              "\n",
              "               age       sibsp       parch    ticket        fare cabin  \\\n",
              "count   736.000000  916.000000  916.000000       916  916.000000   198   \n",
              "unique         NaN         NaN         NaN       703         NaN   146   \n",
              "top            NaN         NaN         NaN  CA. 2343         NaN    G6   \n",
              "freq           NaN         NaN         NaN         7         NaN     4   \n",
              "mean     29.698370    0.507642    0.361354       NaN   32.402710   NaN   \n",
              "std      14.185627    1.044866    0.828054       NaN   50.506411   NaN   \n",
              "min       0.170000    0.000000    0.000000       NaN    0.000000   NaN   \n",
              "25%      21.000000    0.000000    0.000000       NaN    7.895800   NaN   \n",
              "50%      28.000000    0.000000    0.000000       NaN   14.458300   NaN   \n",
              "75%      38.000000    1.000000    0.000000       NaN   30.017700   NaN   \n",
              "max      80.000000    8.000000    9.000000       NaN  512.329200   NaN   \n",
              "\n",
              "       embarked  \n",
              "count       915  \n",
              "unique        3  \n",
              "top           S  \n",
              "freq        645  \n",
              "mean        NaN  \n",
              "std         NaN  \n",
              "min         NaN  \n",
              "25%         NaN  \n",
              "50%         NaN  \n",
              "75%         NaN  \n",
              "max         NaN  "
            ],
            "text/html": [
              "\n",
              "  <div id=\"df-5f0e5868-7213-41a4-a1c1-5dc1c0894e39\">\n",
              "    <div class=\"colab-df-container\">\n",
              "      <div>\n",
              "<style scoped>\n",
              "    .dataframe tbody tr th:only-of-type {\n",
              "        vertical-align: middle;\n",
              "    }\n",
              "\n",
              "    .dataframe tbody tr th {\n",
              "        vertical-align: top;\n",
              "    }\n",
              "\n",
              "    .dataframe thead th {\n",
              "        text-align: right;\n",
              "    }\n",
              "</style>\n",
              "<table border=\"1\" class=\"dataframe\">\n",
              "  <thead>\n",
              "    <tr style=\"text-align: right;\">\n",
              "      <th></th>\n",
              "      <th>passengerid</th>\n",
              "      <th>survived</th>\n",
              "      <th>pclass</th>\n",
              "      <th>name</th>\n",
              "      <th>gender</th>\n",
              "      <th>age</th>\n",
              "      <th>sibsp</th>\n",
              "      <th>parch</th>\n",
              "      <th>ticket</th>\n",
              "      <th>fare</th>\n",
              "      <th>cabin</th>\n",
              "      <th>embarked</th>\n",
              "    </tr>\n",
              "  </thead>\n",
              "  <tbody>\n",
              "    <tr>\n",
              "      <th>count</th>\n",
              "      <td>916.000000</td>\n",
              "      <td>916.000000</td>\n",
              "      <td>916.000000</td>\n",
              "      <td>916</td>\n",
              "      <td>916</td>\n",
              "      <td>736.000000</td>\n",
              "      <td>916.000000</td>\n",
              "      <td>916.000000</td>\n",
              "      <td>916</td>\n",
              "      <td>916.000000</td>\n",
              "      <td>198</td>\n",
              "      <td>915</td>\n",
              "    </tr>\n",
              "    <tr>\n",
              "      <th>unique</th>\n",
              "      <td>NaN</td>\n",
              "      <td>NaN</td>\n",
              "      <td>NaN</td>\n",
              "      <td>915</td>\n",
              "      <td>2</td>\n",
              "      <td>NaN</td>\n",
              "      <td>NaN</td>\n",
              "      <td>NaN</td>\n",
              "      <td>703</td>\n",
              "      <td>NaN</td>\n",
              "      <td>146</td>\n",
              "      <td>3</td>\n",
              "    </tr>\n",
              "    <tr>\n",
              "      <th>top</th>\n",
              "      <td>NaN</td>\n",
              "      <td>NaN</td>\n",
              "      <td>NaN</td>\n",
              "      <td>Connolly, Miss. Kate</td>\n",
              "      <td>male</td>\n",
              "      <td>NaN</td>\n",
              "      <td>NaN</td>\n",
              "      <td>NaN</td>\n",
              "      <td>CA. 2343</td>\n",
              "      <td>NaN</td>\n",
              "      <td>G6</td>\n",
              "      <td>S</td>\n",
              "    </tr>\n",
              "    <tr>\n",
              "      <th>freq</th>\n",
              "      <td>NaN</td>\n",
              "      <td>NaN</td>\n",
              "      <td>NaN</td>\n",
              "      <td>2</td>\n",
              "      <td>589</td>\n",
              "      <td>NaN</td>\n",
              "      <td>NaN</td>\n",
              "      <td>NaN</td>\n",
              "      <td>7</td>\n",
              "      <td>NaN</td>\n",
              "      <td>4</td>\n",
              "      <td>645</td>\n",
              "    </tr>\n",
              "    <tr>\n",
              "      <th>mean</th>\n",
              "      <td>457.500000</td>\n",
              "      <td>0.377729</td>\n",
              "      <td>2.292576</td>\n",
              "      <td>NaN</td>\n",
              "      <td>NaN</td>\n",
              "      <td>29.698370</td>\n",
              "      <td>0.507642</td>\n",
              "      <td>0.361354</td>\n",
              "      <td>NaN</td>\n",
              "      <td>32.402710</td>\n",
              "      <td>NaN</td>\n",
              "      <td>NaN</td>\n",
              "    </tr>\n",
              "    <tr>\n",
              "      <th>std</th>\n",
              "      <td>264.570721</td>\n",
              "      <td>0.485084</td>\n",
              "      <td>0.838675</td>\n",
              "      <td>NaN</td>\n",
              "      <td>NaN</td>\n",
              "      <td>14.185627</td>\n",
              "      <td>1.044866</td>\n",
              "      <td>0.828054</td>\n",
              "      <td>NaN</td>\n",
              "      <td>50.506411</td>\n",
              "      <td>NaN</td>\n",
              "      <td>NaN</td>\n",
              "    </tr>\n",
              "    <tr>\n",
              "      <th>min</th>\n",
              "      <td>0.000000</td>\n",
              "      <td>0.000000</td>\n",
              "      <td>1.000000</td>\n",
              "      <td>NaN</td>\n",
              "      <td>NaN</td>\n",
              "      <td>0.170000</td>\n",
              "      <td>0.000000</td>\n",
              "      <td>0.000000</td>\n",
              "      <td>NaN</td>\n",
              "      <td>0.000000</td>\n",
              "      <td>NaN</td>\n",
              "      <td>NaN</td>\n",
              "    </tr>\n",
              "    <tr>\n",
              "      <th>25%</th>\n",
              "      <td>228.750000</td>\n",
              "      <td>0.000000</td>\n",
              "      <td>2.000000</td>\n",
              "      <td>NaN</td>\n",
              "      <td>NaN</td>\n",
              "      <td>21.000000</td>\n",
              "      <td>0.000000</td>\n",
              "      <td>0.000000</td>\n",
              "      <td>NaN</td>\n",
              "      <td>7.895800</td>\n",
              "      <td>NaN</td>\n",
              "      <td>NaN</td>\n",
              "    </tr>\n",
              "    <tr>\n",
              "      <th>50%</th>\n",
              "      <td>457.500000</td>\n",
              "      <td>0.000000</td>\n",
              "      <td>3.000000</td>\n",
              "      <td>NaN</td>\n",
              "      <td>NaN</td>\n",
              "      <td>28.000000</td>\n",
              "      <td>0.000000</td>\n",
              "      <td>0.000000</td>\n",
              "      <td>NaN</td>\n",
              "      <td>14.458300</td>\n",
              "      <td>NaN</td>\n",
              "      <td>NaN</td>\n",
              "    </tr>\n",
              "    <tr>\n",
              "      <th>75%</th>\n",
              "      <td>686.250000</td>\n",
              "      <td>1.000000</td>\n",
              "      <td>3.000000</td>\n",
              "      <td>NaN</td>\n",
              "      <td>NaN</td>\n",
              "      <td>38.000000</td>\n",
              "      <td>1.000000</td>\n",
              "      <td>0.000000</td>\n",
              "      <td>NaN</td>\n",
              "      <td>30.017700</td>\n",
              "      <td>NaN</td>\n",
              "      <td>NaN</td>\n",
              "    </tr>\n",
              "    <tr>\n",
              "      <th>max</th>\n",
              "      <td>915.000000</td>\n",
              "      <td>1.000000</td>\n",
              "      <td>3.000000</td>\n",
              "      <td>NaN</td>\n",
              "      <td>NaN</td>\n",
              "      <td>80.000000</td>\n",
              "      <td>8.000000</td>\n",
              "      <td>9.000000</td>\n",
              "      <td>NaN</td>\n",
              "      <td>512.329200</td>\n",
              "      <td>NaN</td>\n",
              "      <td>NaN</td>\n",
              "    </tr>\n",
              "  </tbody>\n",
              "</table>\n",
              "</div>\n",
              "      <button class=\"colab-df-convert\" onclick=\"convertToInteractive('df-5f0e5868-7213-41a4-a1c1-5dc1c0894e39')\"\n",
              "              title=\"Convert this dataframe to an interactive table.\"\n",
              "              style=\"display:none;\">\n",
              "        \n",
              "  <svg xmlns=\"http://www.w3.org/2000/svg\" height=\"24px\"viewBox=\"0 0 24 24\"\n",
              "       width=\"24px\">\n",
              "    <path d=\"M0 0h24v24H0V0z\" fill=\"none\"/>\n",
              "    <path d=\"M18.56 5.44l.94 2.06.94-2.06 2.06-.94-2.06-.94-.94-2.06-.94 2.06-2.06.94zm-11 1L8.5 8.5l.94-2.06 2.06-.94-2.06-.94L8.5 2.5l-.94 2.06-2.06.94zm10 10l.94 2.06.94-2.06 2.06-.94-2.06-.94-.94-2.06-.94 2.06-2.06.94z\"/><path d=\"M17.41 7.96l-1.37-1.37c-.4-.4-.92-.59-1.43-.59-.52 0-1.04.2-1.43.59L10.3 9.45l-7.72 7.72c-.78.78-.78 2.05 0 2.83L4 21.41c.39.39.9.59 1.41.59.51 0 1.02-.2 1.41-.59l7.78-7.78 2.81-2.81c.8-.78.8-2.07 0-2.86zM5.41 20L4 18.59l7.72-7.72 1.47 1.35L5.41 20z\"/>\n",
              "  </svg>\n",
              "      </button>\n",
              "      \n",
              "  <style>\n",
              "    .colab-df-container {\n",
              "      display:flex;\n",
              "      flex-wrap:wrap;\n",
              "      gap: 12px;\n",
              "    }\n",
              "\n",
              "    .colab-df-convert {\n",
              "      background-color: #E8F0FE;\n",
              "      border: none;\n",
              "      border-radius: 50%;\n",
              "      cursor: pointer;\n",
              "      display: none;\n",
              "      fill: #1967D2;\n",
              "      height: 32px;\n",
              "      padding: 0 0 0 0;\n",
              "      width: 32px;\n",
              "    }\n",
              "\n",
              "    .colab-df-convert:hover {\n",
              "      background-color: #E2EBFA;\n",
              "      box-shadow: 0px 1px 2px rgba(60, 64, 67, 0.3), 0px 1px 3px 1px rgba(60, 64, 67, 0.15);\n",
              "      fill: #174EA6;\n",
              "    }\n",
              "\n",
              "    [theme=dark] .colab-df-convert {\n",
              "      background-color: #3B4455;\n",
              "      fill: #D2E3FC;\n",
              "    }\n",
              "\n",
              "    [theme=dark] .colab-df-convert:hover {\n",
              "      background-color: #434B5C;\n",
              "      box-shadow: 0px 1px 3px 1px rgba(0, 0, 0, 0.15);\n",
              "      filter: drop-shadow(0px 1px 2px rgba(0, 0, 0, 0.3));\n",
              "      fill: #FFFFFF;\n",
              "    }\n",
              "  </style>\n",
              "\n",
              "      <script>\n",
              "        const buttonEl =\n",
              "          document.querySelector('#df-5f0e5868-7213-41a4-a1c1-5dc1c0894e39 button.colab-df-convert');\n",
              "        buttonEl.style.display =\n",
              "          google.colab.kernel.accessAllowed ? 'block' : 'none';\n",
              "\n",
              "        async function convertToInteractive(key) {\n",
              "          const element = document.querySelector('#df-5f0e5868-7213-41a4-a1c1-5dc1c0894e39');\n",
              "          const dataTable =\n",
              "            await google.colab.kernel.invokeFunction('convertToInteractive',\n",
              "                                                     [key], {});\n",
              "          if (!dataTable) return;\n",
              "\n",
              "          const docLinkHtml = 'Like what you see? Visit the ' +\n",
              "            '<a target=\"_blank\" href=https://colab.research.google.com/notebooks/data_table.ipynb>data table notebook</a>'\n",
              "            + ' to learn more about interactive tables.';\n",
              "          element.innerHTML = '';\n",
              "          dataTable['output_type'] = 'display_data';\n",
              "          await google.colab.output.renderOutput(dataTable, element);\n",
              "          const docLink = document.createElement('div');\n",
              "          docLink.innerHTML = docLinkHtml;\n",
              "          element.appendChild(docLink);\n",
              "        }\n",
              "      </script>\n",
              "    </div>\n",
              "  </div>\n",
              "  "
            ]
          },
          "metadata": {},
          "execution_count": 15
        }
      ]
    },
    {
      "cell_type": "code",
      "source": [
        "train['cabin'].unique().shape"
      ],
      "metadata": {
        "colab": {
          "base_uri": "https://localhost:8080/"
        },
        "id": "XeSzt_09vlaC",
        "outputId": "7c3c8f78-fc72-47d3-8b46-c0913741691e"
      },
      "execution_count": 16,
      "outputs": [
        {
          "output_type": "execute_result",
          "data": {
            "text/plain": [
              "(147,)"
            ]
          },
          "metadata": {},
          "execution_count": 16
        }
      ]
    },
    {
      "cell_type": "code",
      "source": [
        "# 컬럼 분류\n",
        "target_cols = ['survived']\n",
        "continous_cols = ['age', 'sibsp', 'parch', 'fare']\n",
        "category_cols = ['pclass', 'gender', 'embarked']\n",
        "other_cols = ['passengerid', 'name', 'ticket', 'cabin']"
      ],
      "metadata": {
        "id": "qEyxz7kklI6r"
      },
      "execution_count": 17,
      "outputs": []
    },
    {
      "cell_type": "markdown",
      "source": [
        "## Missing Value"
      ],
      "metadata": {
        "id": "sYoUrcawwbbx"
      }
    },
    {
      "cell_type": "code",
      "source": [
        "train.isnull().sum().sort_values(ascending = False)"
      ],
      "metadata": {
        "colab": {
          "base_uri": "https://localhost:8080/"
        },
        "id": "XOuZR6VgwMGj",
        "outputId": "5aae1892-dfb8-4309-d4c8-2c048d6f23b7"
      },
      "execution_count": 18,
      "outputs": [
        {
          "output_type": "execute_result",
          "data": {
            "text/plain": [
              "cabin          718\n",
              "age            180\n",
              "embarked         1\n",
              "passengerid      0\n",
              "survived         0\n",
              "pclass           0\n",
              "name             0\n",
              "gender           0\n",
              "sibsp            0\n",
              "parch            0\n",
              "ticket           0\n",
              "fare             0\n",
              "dtype: int64"
            ]
          },
          "metadata": {},
          "execution_count": 18
        }
      ]
    },
    {
      "cell_type": "code",
      "source": [
        "test.isnull().sum().sort_values(ascending = False)"
      ],
      "metadata": {
        "colab": {
          "base_uri": "https://localhost:8080/"
        },
        "id": "pbcQcfzJwnxv",
        "outputId": "2858139a-2fc9-4e05-e851-c047b0add4fc"
      },
      "execution_count": 19,
      "outputs": [
        {
          "output_type": "execute_result",
          "data": {
            "text/plain": [
              "cabin          296\n",
              "age             83\n",
              "fare             1\n",
              "embarked         1\n",
              "passengerid      0\n",
              "pclass           0\n",
              "name             0\n",
              "gender           0\n",
              "sibsp            0\n",
              "parch            0\n",
              "ticket           0\n",
              "dtype: int64"
            ]
          },
          "metadata": {},
          "execution_count": 19
        }
      ]
    },
    {
      "cell_type": "markdown",
      "source": [
        "### continous_cols\n",
        "- age, fare"
      ],
      "metadata": {
        "id": "g_6p-6ZXxBGX"
      }
    },
    {
      "cell_type": "code",
      "source": [
        "train['age'].fillna(train['age'].median(), inplace=True)\n",
        "test['age'].fillna(train['age'].median(), inplace=True)\n",
        "train['fare'].fillna(train['fare'].mean(), inplace=True)\n",
        "test['fare'].fillna(train['fare'].mean(), inplace=True)\n",
        "\n",
        "train[['age', 'fare']].isnull().sum()"
      ],
      "metadata": {
        "colab": {
          "base_uri": "https://localhost:8080/"
        },
        "id": "nWvMdVFM589U",
        "outputId": "eb94f8b0-5c3c-480c-e784-afdd078708e3"
      },
      "execution_count": 20,
      "outputs": [
        {
          "output_type": "execute_result",
          "data": {
            "text/plain": [
              "age     0\n",
              "fare    0\n",
              "dtype: int64"
            ]
          },
          "metadata": {},
          "execution_count": 20
        }
      ]
    },
    {
      "cell_type": "code",
      "source": [
        "train['age'].isnull()"
      ],
      "metadata": {
        "colab": {
          "base_uri": "https://localhost:8080/"
        },
        "id": "rCcw33h_A33b",
        "outputId": "72db816c-4bfa-4c0b-ce28-629420409019"
      },
      "execution_count": 21,
      "outputs": [
        {
          "output_type": "execute_result",
          "data": {
            "text/plain": [
              "0      False\n",
              "1      False\n",
              "2      False\n",
              "3      False\n",
              "4      False\n",
              "       ...  \n",
              "911    False\n",
              "912    False\n",
              "913    False\n",
              "914    False\n",
              "915    False\n",
              "Name: age, Length: 916, dtype: bool"
            ]
          },
          "metadata": {},
          "execution_count": 21
        }
      ]
    },
    {
      "cell_type": "code",
      "source": [
        "test[['age', 'fare']].isnull().sum()"
      ],
      "metadata": {
        "colab": {
          "base_uri": "https://localhost:8080/"
        },
        "id": "aRDECAUg9IEd",
        "outputId": "b3cd7c34-c4f8-4738-d15f-23f668aeb9bb"
      },
      "execution_count": 22,
      "outputs": [
        {
          "output_type": "execute_result",
          "data": {
            "text/plain": [
              "age     0\n",
              "fare    0\n",
              "dtype: int64"
            ]
          },
          "metadata": {},
          "execution_count": 22
        }
      ]
    },
    {
      "cell_type": "markdown",
      "source": [
        "### category_cols\n",
        "- embarked"
      ],
      "metadata": {
        "id": "4pI7awJ5_jXL"
      }
    },
    {
      "cell_type": "code",
      "source": [
        "embarked_mode = train['embarked'].mode().values[0]\n",
        "\n",
        "train['embarked'].fillna(embarked_mode, inplace=True)\n",
        "test['embarked'].fillna(embarked_mode, inplace=True)"
      ],
      "metadata": {
        "id": "rOfQjTKA_ojk"
      },
      "execution_count": 23,
      "outputs": []
    },
    {
      "cell_type": "code",
      "source": [
        "train['embarked'].isnull().sum()"
      ],
      "metadata": {
        "colab": {
          "base_uri": "https://localhost:8080/"
        },
        "id": "0wddsxAbAW9R",
        "outputId": "0b032f12-aefb-413d-b11c-333f44e9355d"
      },
      "execution_count": 24,
      "outputs": [
        {
          "output_type": "execute_result",
          "data": {
            "text/plain": [
              "0"
            ]
          },
          "metadata": {},
          "execution_count": 24
        }
      ]
    },
    {
      "cell_type": "code",
      "source": [
        "test['embarked'].isnull().sum()"
      ],
      "metadata": {
        "colab": {
          "base_uri": "https://localhost:8080/"
        },
        "id": "TH0EV-6EAf2H",
        "outputId": "89310f2e-c9ce-485f-d620-00066730e86f"
      },
      "execution_count": 25,
      "outputs": [
        {
          "output_type": "execute_result",
          "data": {
            "text/plain": [
              "0"
            ]
          },
          "metadata": {},
          "execution_count": 25
        }
      ]
    },
    {
      "cell_type": "markdown",
      "source": [
        "### other_cols"
      ],
      "metadata": {
        "id": "sSwrQCwAmq7V"
      }
    },
    {
      "cell_type": "code",
      "source": [
        "cabin_mode = train['cabin'].mode().values[0]\n",
        "\n",
        "train['cabin'].fillna(cabin_mode, inplace=True)\n",
        "test['cabin'].fillna(cabin_mode, inplace=True)"
      ],
      "metadata": {
        "id": "I2QOJG61moob"
      },
      "execution_count": 26,
      "outputs": []
    },
    {
      "cell_type": "code",
      "source": [
        "train['cabin'].isnull().sum()"
      ],
      "metadata": {
        "colab": {
          "base_uri": "https://localhost:8080/"
        },
        "id": "CslB0n8xm3Uf",
        "outputId": "59a55f75-2e01-48d2-ad63-6863425885f8"
      },
      "execution_count": 27,
      "outputs": [
        {
          "output_type": "execute_result",
          "data": {
            "text/plain": [
              "0"
            ]
          },
          "metadata": {},
          "execution_count": 27
        }
      ]
    },
    {
      "cell_type": "code",
      "source": [
        "test['cabin'].isnull().sum()"
      ],
      "metadata": {
        "colab": {
          "base_uri": "https://localhost:8080/"
        },
        "id": "pxiWB5L8m5in",
        "outputId": "1cd41fea-0ba7-4f78-d6d3-12843abc5a07"
      },
      "execution_count": 28,
      "outputs": [
        {
          "output_type": "execute_result",
          "data": {
            "text/plain": [
              "0"
            ]
          },
          "metadata": {},
          "execution_count": 28
        }
      ]
    },
    {
      "cell_type": "code",
      "source": [
        "train.isnull().sum().sum(), test.isnull().sum().sum()"
      ],
      "metadata": {
        "colab": {
          "base_uri": "https://localhost:8080/"
        },
        "id": "SiTrnCfOm7iL",
        "outputId": "766011cf-e2b3-4431-d1db-c2b898f97e14"
      },
      "execution_count": 29,
      "outputs": [
        {
          "output_type": "execute_result",
          "data": {
            "text/plain": [
              "(0, 0)"
            ]
          },
          "metadata": {},
          "execution_count": 29
        }
      ]
    },
    {
      "cell_type": "code",
      "source": [
        "print(f'{train.shape} / {test.shape}')"
      ],
      "metadata": {
        "colab": {
          "base_uri": "https://localhost:8080/"
        },
        "id": "VXuWWbqUteQw",
        "outputId": "1f71d31d-2a3a-4730-c259-aadb081742e5"
      },
      "execution_count": 30,
      "outputs": [
        {
          "output_type": "stream",
          "name": "stdout",
          "text": [
            "(916, 12) / (393, 11)\n"
          ]
        }
      ]
    },
    {
      "cell_type": "markdown",
      "source": [
        "# Scaling"
      ],
      "metadata": {
        "id": "s5h4hGGAnXLA"
      }
    },
    {
      "cell_type": "code",
      "source": [
        "from sklearn.preprocessing import StandardScaler"
      ],
      "metadata": {
        "id": "vrPQdvcEnFCQ"
      },
      "execution_count": 31,
      "outputs": []
    },
    {
      "cell_type": "code",
      "source": [
        "continous_cols = ['age', 'sibsp', 'parch', 'fare']\n",
        "train[continous_cols]"
      ],
      "metadata": {
        "colab": {
          "base_uri": "https://localhost:8080/",
          "height": 423
        },
        "id": "eLY2bpLbuaPg",
        "outputId": "511f121c-51cf-4a36-bd64-5cfc8849cce7"
      },
      "execution_count": 32,
      "outputs": [
        {
          "output_type": "execute_result",
          "data": {
            "text/plain": [
              "      age  sibsp  parch     fare\n",
              "0    28.0      0      0  12.8750\n",
              "1    28.0      0      0   7.7500\n",
              "2    52.0      1      1  93.5000\n",
              "3    27.0      0      0   7.7958\n",
              "4    44.0      1      0  26.0000\n",
              "..    ...    ...    ...      ...\n",
              "911  28.0      1      0   6.4375\n",
              "912  18.0      0      0   8.6625\n",
              "913  19.0      0      0  10.5000\n",
              "914  28.0      0      0   7.7333\n",
              "915  53.0      0      0  27.4458\n",
              "\n",
              "[916 rows x 4 columns]"
            ],
            "text/html": [
              "\n",
              "  <div id=\"df-0459c1f5-4bbb-46d9-95c8-15408106b079\">\n",
              "    <div class=\"colab-df-container\">\n",
              "      <div>\n",
              "<style scoped>\n",
              "    .dataframe tbody tr th:only-of-type {\n",
              "        vertical-align: middle;\n",
              "    }\n",
              "\n",
              "    .dataframe tbody tr th {\n",
              "        vertical-align: top;\n",
              "    }\n",
              "\n",
              "    .dataframe thead th {\n",
              "        text-align: right;\n",
              "    }\n",
              "</style>\n",
              "<table border=\"1\" class=\"dataframe\">\n",
              "  <thead>\n",
              "    <tr style=\"text-align: right;\">\n",
              "      <th></th>\n",
              "      <th>age</th>\n",
              "      <th>sibsp</th>\n",
              "      <th>parch</th>\n",
              "      <th>fare</th>\n",
              "    </tr>\n",
              "  </thead>\n",
              "  <tbody>\n",
              "    <tr>\n",
              "      <th>0</th>\n",
              "      <td>28.0</td>\n",
              "      <td>0</td>\n",
              "      <td>0</td>\n",
              "      <td>12.8750</td>\n",
              "    </tr>\n",
              "    <tr>\n",
              "      <th>1</th>\n",
              "      <td>28.0</td>\n",
              "      <td>0</td>\n",
              "      <td>0</td>\n",
              "      <td>7.7500</td>\n",
              "    </tr>\n",
              "    <tr>\n",
              "      <th>2</th>\n",
              "      <td>52.0</td>\n",
              "      <td>1</td>\n",
              "      <td>1</td>\n",
              "      <td>93.5000</td>\n",
              "    </tr>\n",
              "    <tr>\n",
              "      <th>3</th>\n",
              "      <td>27.0</td>\n",
              "      <td>0</td>\n",
              "      <td>0</td>\n",
              "      <td>7.7958</td>\n",
              "    </tr>\n",
              "    <tr>\n",
              "      <th>4</th>\n",
              "      <td>44.0</td>\n",
              "      <td>1</td>\n",
              "      <td>0</td>\n",
              "      <td>26.0000</td>\n",
              "    </tr>\n",
              "    <tr>\n",
              "      <th>...</th>\n",
              "      <td>...</td>\n",
              "      <td>...</td>\n",
              "      <td>...</td>\n",
              "      <td>...</td>\n",
              "    </tr>\n",
              "    <tr>\n",
              "      <th>911</th>\n",
              "      <td>28.0</td>\n",
              "      <td>1</td>\n",
              "      <td>0</td>\n",
              "      <td>6.4375</td>\n",
              "    </tr>\n",
              "    <tr>\n",
              "      <th>912</th>\n",
              "      <td>18.0</td>\n",
              "      <td>0</td>\n",
              "      <td>0</td>\n",
              "      <td>8.6625</td>\n",
              "    </tr>\n",
              "    <tr>\n",
              "      <th>913</th>\n",
              "      <td>19.0</td>\n",
              "      <td>0</td>\n",
              "      <td>0</td>\n",
              "      <td>10.5000</td>\n",
              "    </tr>\n",
              "    <tr>\n",
              "      <th>914</th>\n",
              "      <td>28.0</td>\n",
              "      <td>0</td>\n",
              "      <td>0</td>\n",
              "      <td>7.7333</td>\n",
              "    </tr>\n",
              "    <tr>\n",
              "      <th>915</th>\n",
              "      <td>53.0</td>\n",
              "      <td>0</td>\n",
              "      <td>0</td>\n",
              "      <td>27.4458</td>\n",
              "    </tr>\n",
              "  </tbody>\n",
              "</table>\n",
              "<p>916 rows × 4 columns</p>\n",
              "</div>\n",
              "      <button class=\"colab-df-convert\" onclick=\"convertToInteractive('df-0459c1f5-4bbb-46d9-95c8-15408106b079')\"\n",
              "              title=\"Convert this dataframe to an interactive table.\"\n",
              "              style=\"display:none;\">\n",
              "        \n",
              "  <svg xmlns=\"http://www.w3.org/2000/svg\" height=\"24px\"viewBox=\"0 0 24 24\"\n",
              "       width=\"24px\">\n",
              "    <path d=\"M0 0h24v24H0V0z\" fill=\"none\"/>\n",
              "    <path d=\"M18.56 5.44l.94 2.06.94-2.06 2.06-.94-2.06-.94-.94-2.06-.94 2.06-2.06.94zm-11 1L8.5 8.5l.94-2.06 2.06-.94-2.06-.94L8.5 2.5l-.94 2.06-2.06.94zm10 10l.94 2.06.94-2.06 2.06-.94-2.06-.94-.94-2.06-.94 2.06-2.06.94z\"/><path d=\"M17.41 7.96l-1.37-1.37c-.4-.4-.92-.59-1.43-.59-.52 0-1.04.2-1.43.59L10.3 9.45l-7.72 7.72c-.78.78-.78 2.05 0 2.83L4 21.41c.39.39.9.59 1.41.59.51 0 1.02-.2 1.41-.59l7.78-7.78 2.81-2.81c.8-.78.8-2.07 0-2.86zM5.41 20L4 18.59l7.72-7.72 1.47 1.35L5.41 20z\"/>\n",
              "  </svg>\n",
              "      </button>\n",
              "      \n",
              "  <style>\n",
              "    .colab-df-container {\n",
              "      display:flex;\n",
              "      flex-wrap:wrap;\n",
              "      gap: 12px;\n",
              "    }\n",
              "\n",
              "    .colab-df-convert {\n",
              "      background-color: #E8F0FE;\n",
              "      border: none;\n",
              "      border-radius: 50%;\n",
              "      cursor: pointer;\n",
              "      display: none;\n",
              "      fill: #1967D2;\n",
              "      height: 32px;\n",
              "      padding: 0 0 0 0;\n",
              "      width: 32px;\n",
              "    }\n",
              "\n",
              "    .colab-df-convert:hover {\n",
              "      background-color: #E2EBFA;\n",
              "      box-shadow: 0px 1px 2px rgba(60, 64, 67, 0.3), 0px 1px 3px 1px rgba(60, 64, 67, 0.15);\n",
              "      fill: #174EA6;\n",
              "    }\n",
              "\n",
              "    [theme=dark] .colab-df-convert {\n",
              "      background-color: #3B4455;\n",
              "      fill: #D2E3FC;\n",
              "    }\n",
              "\n",
              "    [theme=dark] .colab-df-convert:hover {\n",
              "      background-color: #434B5C;\n",
              "      box-shadow: 0px 1px 3px 1px rgba(0, 0, 0, 0.15);\n",
              "      filter: drop-shadow(0px 1px 2px rgba(0, 0, 0, 0.3));\n",
              "      fill: #FFFFFF;\n",
              "    }\n",
              "  </style>\n",
              "\n",
              "      <script>\n",
              "        const buttonEl =\n",
              "          document.querySelector('#df-0459c1f5-4bbb-46d9-95c8-15408106b079 button.colab-df-convert');\n",
              "        buttonEl.style.display =\n",
              "          google.colab.kernel.accessAllowed ? 'block' : 'none';\n",
              "\n",
              "        async function convertToInteractive(key) {\n",
              "          const element = document.querySelector('#df-0459c1f5-4bbb-46d9-95c8-15408106b079');\n",
              "          const dataTable =\n",
              "            await google.colab.kernel.invokeFunction('convertToInteractive',\n",
              "                                                     [key], {});\n",
              "          if (!dataTable) return;\n",
              "\n",
              "          const docLinkHtml = 'Like what you see? Visit the ' +\n",
              "            '<a target=\"_blank\" href=https://colab.research.google.com/notebooks/data_table.ipynb>data table notebook</a>'\n",
              "            + ' to learn more about interactive tables.';\n",
              "          element.innerHTML = '';\n",
              "          dataTable['output_type'] = 'display_data';\n",
              "          await google.colab.output.renderOutput(dataTable, element);\n",
              "          const docLink = document.createElement('div');\n",
              "          docLink.innerHTML = docLinkHtml;\n",
              "          element.appendChild(docLink);\n",
              "        }\n",
              "      </script>\n",
              "    </div>\n",
              "  </div>\n",
              "  "
            ]
          },
          "metadata": {},
          "execution_count": 32
        }
      ]
    },
    {
      "cell_type": "code",
      "source": [
        "continous_cols = ['age', 'sibsp', 'parch', 'fare']\n",
        "\n",
        "from sklearn.preprocessing import StandardScaler\n",
        "\n",
        "std = StandardScaler()\n",
        "\n",
        "train[continous_cols] = std.fit_transform(train[continous_cols])\n",
        "test[continous_cols] = std.transform(test[continous_cols])\n"
      ],
      "metadata": {
        "id": "xQI37mRwpuYC"
      },
      "execution_count": 33,
      "outputs": []
    },
    {
      "cell_type": "code",
      "source": [
        "train[continous_cols]"
      ],
      "metadata": {
        "colab": {
          "base_uri": "https://localhost:8080/",
          "height": 423
        },
        "id": "NUoA4oFkpxF3",
        "outputId": "de46e85d-eee7-4d2b-b6ee-6b02fcd9d430"
      },
      "execution_count": 34,
      "outputs": [
        {
          "output_type": "execute_result",
          "data": {
            "text/plain": [
              "          age     sibsp     parch      fare\n",
              "0   -0.107240 -0.486109 -0.436627 -0.386849\n",
              "1   -0.107240 -0.486109 -0.436627 -0.488377\n",
              "2    1.778818  0.471474  0.771683  1.210355\n",
              "3   -0.185826 -0.486109 -0.436627 -0.487470\n",
              "4    1.150132  0.471474 -0.436627 -0.126840\n",
              "..        ...       ...       ...       ...\n",
              "911 -0.107240  0.471474 -0.436627 -0.514378\n",
              "912 -0.893098 -0.486109 -0.436627 -0.470300\n",
              "913 -0.814512 -0.486109 -0.436627 -0.433899\n",
              "914 -0.107240 -0.486109 -0.436627 -0.488708\n",
              "915  1.857404 -0.486109 -0.436627 -0.098198\n",
              "\n",
              "[916 rows x 4 columns]"
            ],
            "text/html": [
              "\n",
              "  <div id=\"df-4aa8691c-5572-4274-a900-82b3821c347f\">\n",
              "    <div class=\"colab-df-container\">\n",
              "      <div>\n",
              "<style scoped>\n",
              "    .dataframe tbody tr th:only-of-type {\n",
              "        vertical-align: middle;\n",
              "    }\n",
              "\n",
              "    .dataframe tbody tr th {\n",
              "        vertical-align: top;\n",
              "    }\n",
              "\n",
              "    .dataframe thead th {\n",
              "        text-align: right;\n",
              "    }\n",
              "</style>\n",
              "<table border=\"1\" class=\"dataframe\">\n",
              "  <thead>\n",
              "    <tr style=\"text-align: right;\">\n",
              "      <th></th>\n",
              "      <th>age</th>\n",
              "      <th>sibsp</th>\n",
              "      <th>parch</th>\n",
              "      <th>fare</th>\n",
              "    </tr>\n",
              "  </thead>\n",
              "  <tbody>\n",
              "    <tr>\n",
              "      <th>0</th>\n",
              "      <td>-0.107240</td>\n",
              "      <td>-0.486109</td>\n",
              "      <td>-0.436627</td>\n",
              "      <td>-0.386849</td>\n",
              "    </tr>\n",
              "    <tr>\n",
              "      <th>1</th>\n",
              "      <td>-0.107240</td>\n",
              "      <td>-0.486109</td>\n",
              "      <td>-0.436627</td>\n",
              "      <td>-0.488377</td>\n",
              "    </tr>\n",
              "    <tr>\n",
              "      <th>2</th>\n",
              "      <td>1.778818</td>\n",
              "      <td>0.471474</td>\n",
              "      <td>0.771683</td>\n",
              "      <td>1.210355</td>\n",
              "    </tr>\n",
              "    <tr>\n",
              "      <th>3</th>\n",
              "      <td>-0.185826</td>\n",
              "      <td>-0.486109</td>\n",
              "      <td>-0.436627</td>\n",
              "      <td>-0.487470</td>\n",
              "    </tr>\n",
              "    <tr>\n",
              "      <th>4</th>\n",
              "      <td>1.150132</td>\n",
              "      <td>0.471474</td>\n",
              "      <td>-0.436627</td>\n",
              "      <td>-0.126840</td>\n",
              "    </tr>\n",
              "    <tr>\n",
              "      <th>...</th>\n",
              "      <td>...</td>\n",
              "      <td>...</td>\n",
              "      <td>...</td>\n",
              "      <td>...</td>\n",
              "    </tr>\n",
              "    <tr>\n",
              "      <th>911</th>\n",
              "      <td>-0.107240</td>\n",
              "      <td>0.471474</td>\n",
              "      <td>-0.436627</td>\n",
              "      <td>-0.514378</td>\n",
              "    </tr>\n",
              "    <tr>\n",
              "      <th>912</th>\n",
              "      <td>-0.893098</td>\n",
              "      <td>-0.486109</td>\n",
              "      <td>-0.436627</td>\n",
              "      <td>-0.470300</td>\n",
              "    </tr>\n",
              "    <tr>\n",
              "      <th>913</th>\n",
              "      <td>-0.814512</td>\n",
              "      <td>-0.486109</td>\n",
              "      <td>-0.436627</td>\n",
              "      <td>-0.433899</td>\n",
              "    </tr>\n",
              "    <tr>\n",
              "      <th>914</th>\n",
              "      <td>-0.107240</td>\n",
              "      <td>-0.486109</td>\n",
              "      <td>-0.436627</td>\n",
              "      <td>-0.488708</td>\n",
              "    </tr>\n",
              "    <tr>\n",
              "      <th>915</th>\n",
              "      <td>1.857404</td>\n",
              "      <td>-0.486109</td>\n",
              "      <td>-0.436627</td>\n",
              "      <td>-0.098198</td>\n",
              "    </tr>\n",
              "  </tbody>\n",
              "</table>\n",
              "<p>916 rows × 4 columns</p>\n",
              "</div>\n",
              "      <button class=\"colab-df-convert\" onclick=\"convertToInteractive('df-4aa8691c-5572-4274-a900-82b3821c347f')\"\n",
              "              title=\"Convert this dataframe to an interactive table.\"\n",
              "              style=\"display:none;\">\n",
              "        \n",
              "  <svg xmlns=\"http://www.w3.org/2000/svg\" height=\"24px\"viewBox=\"0 0 24 24\"\n",
              "       width=\"24px\">\n",
              "    <path d=\"M0 0h24v24H0V0z\" fill=\"none\"/>\n",
              "    <path d=\"M18.56 5.44l.94 2.06.94-2.06 2.06-.94-2.06-.94-.94-2.06-.94 2.06-2.06.94zm-11 1L8.5 8.5l.94-2.06 2.06-.94-2.06-.94L8.5 2.5l-.94 2.06-2.06.94zm10 10l.94 2.06.94-2.06 2.06-.94-2.06-.94-.94-2.06-.94 2.06-2.06.94z\"/><path d=\"M17.41 7.96l-1.37-1.37c-.4-.4-.92-.59-1.43-.59-.52 0-1.04.2-1.43.59L10.3 9.45l-7.72 7.72c-.78.78-.78 2.05 0 2.83L4 21.41c.39.39.9.59 1.41.59.51 0 1.02-.2 1.41-.59l7.78-7.78 2.81-2.81c.8-.78.8-2.07 0-2.86zM5.41 20L4 18.59l7.72-7.72 1.47 1.35L5.41 20z\"/>\n",
              "  </svg>\n",
              "      </button>\n",
              "      \n",
              "  <style>\n",
              "    .colab-df-container {\n",
              "      display:flex;\n",
              "      flex-wrap:wrap;\n",
              "      gap: 12px;\n",
              "    }\n",
              "\n",
              "    .colab-df-convert {\n",
              "      background-color: #E8F0FE;\n",
              "      border: none;\n",
              "      border-radius: 50%;\n",
              "      cursor: pointer;\n",
              "      display: none;\n",
              "      fill: #1967D2;\n",
              "      height: 32px;\n",
              "      padding: 0 0 0 0;\n",
              "      width: 32px;\n",
              "    }\n",
              "\n",
              "    .colab-df-convert:hover {\n",
              "      background-color: #E2EBFA;\n",
              "      box-shadow: 0px 1px 2px rgba(60, 64, 67, 0.3), 0px 1px 3px 1px rgba(60, 64, 67, 0.15);\n",
              "      fill: #174EA6;\n",
              "    }\n",
              "\n",
              "    [theme=dark] .colab-df-convert {\n",
              "      background-color: #3B4455;\n",
              "      fill: #D2E3FC;\n",
              "    }\n",
              "\n",
              "    [theme=dark] .colab-df-convert:hover {\n",
              "      background-color: #434B5C;\n",
              "      box-shadow: 0px 1px 3px 1px rgba(0, 0, 0, 0.15);\n",
              "      filter: drop-shadow(0px 1px 2px rgba(0, 0, 0, 0.3));\n",
              "      fill: #FFFFFF;\n",
              "    }\n",
              "  </style>\n",
              "\n",
              "      <script>\n",
              "        const buttonEl =\n",
              "          document.querySelector('#df-4aa8691c-5572-4274-a900-82b3821c347f button.colab-df-convert');\n",
              "        buttonEl.style.display =\n",
              "          google.colab.kernel.accessAllowed ? 'block' : 'none';\n",
              "\n",
              "        async function convertToInteractive(key) {\n",
              "          const element = document.querySelector('#df-4aa8691c-5572-4274-a900-82b3821c347f');\n",
              "          const dataTable =\n",
              "            await google.colab.kernel.invokeFunction('convertToInteractive',\n",
              "                                                     [key], {});\n",
              "          if (!dataTable) return;\n",
              "\n",
              "          const docLinkHtml = 'Like what you see? Visit the ' +\n",
              "            '<a target=\"_blank\" href=https://colab.research.google.com/notebooks/data_table.ipynb>data table notebook</a>'\n",
              "            + ' to learn more about interactive tables.';\n",
              "          element.innerHTML = '';\n",
              "          dataTable['output_type'] = 'display_data';\n",
              "          await google.colab.output.renderOutput(dataTable, element);\n",
              "          const docLink = document.createElement('div');\n",
              "          docLink.innerHTML = docLinkHtml;\n",
              "          element.appendChild(docLink);\n",
              "        }\n",
              "      </script>\n",
              "    </div>\n",
              "  </div>\n",
              "  "
            ]
          },
          "metadata": {},
          "execution_count": 34
        }
      ]
    },
    {
      "cell_type": "markdown",
      "source": [
        "# Encoding"
      ],
      "metadata": {
        "id": "swzrO-LD0o51"
      }
    },
    {
      "cell_type": "code",
      "source": [
        "pip install category_encoders"
      ],
      "metadata": {
        "colab": {
          "base_uri": "https://localhost:8080/"
        },
        "id": "joRHksLi1OS0",
        "outputId": "d64f785a-90ec-4819-dc35-bee77171eb71"
      },
      "execution_count": 35,
      "outputs": [
        {
          "output_type": "stream",
          "name": "stdout",
          "text": [
            "Looking in indexes: https://pypi.org/simple, https://us-python.pkg.dev/colab-wheels/public/simple/\n",
            "Collecting category_encoders\n",
            "  Downloading category_encoders-2.6.0-py2.py3-none-any.whl (81 kB)\n",
            "\u001b[2K     \u001b[90m━━━━━━━━━━━━━━━━━━━━━━━━━━━━━━━━━━━━━━━━\u001b[0m \u001b[32m81.2/81.2 KB\u001b[0m \u001b[31m3.3 MB/s\u001b[0m eta \u001b[36m0:00:00\u001b[0m\n",
            "\u001b[?25hRequirement already satisfied: scipy>=1.0.0 in /usr/local/lib/python3.8/dist-packages (from category_encoders) (1.7.3)\n",
            "Requirement already satisfied: patsy>=0.5.1 in /usr/local/lib/python3.8/dist-packages (from category_encoders) (0.5.3)\n",
            "Requirement already satisfied: statsmodels>=0.9.0 in /usr/local/lib/python3.8/dist-packages (from category_encoders) (0.12.2)\n",
            "Requirement already satisfied: pandas>=1.0.5 in /usr/local/lib/python3.8/dist-packages (from category_encoders) (1.3.5)\n",
            "Requirement already satisfied: scikit-learn>=0.20.0 in /usr/local/lib/python3.8/dist-packages (from category_encoders) (1.0.2)\n",
            "Requirement already satisfied: numpy>=1.14.0 in /usr/local/lib/python3.8/dist-packages (from category_encoders) (1.22.4)\n",
            "Requirement already satisfied: pytz>=2017.3 in /usr/local/lib/python3.8/dist-packages (from pandas>=1.0.5->category_encoders) (2022.7.1)\n",
            "Requirement already satisfied: python-dateutil>=2.7.3 in /usr/local/lib/python3.8/dist-packages (from pandas>=1.0.5->category_encoders) (2.8.2)\n",
            "Requirement already satisfied: six in /usr/local/lib/python3.8/dist-packages (from patsy>=0.5.1->category_encoders) (1.15.0)\n",
            "Requirement already satisfied: joblib>=0.11 in /usr/local/lib/python3.8/dist-packages (from scikit-learn>=0.20.0->category_encoders) (1.2.0)\n",
            "Requirement already satisfied: threadpoolctl>=2.0.0 in /usr/local/lib/python3.8/dist-packages (from scikit-learn>=0.20.0->category_encoders) (3.1.0)\n",
            "Installing collected packages: category_encoders\n",
            "Successfully installed category_encoders-2.6.0\n"
          ]
        }
      ]
    },
    {
      "cell_type": "code",
      "source": [
        "import category_encoders as ce"
      ],
      "metadata": {
        "id": "qIqQXUO-xi4E"
      },
      "execution_count": 36,
      "outputs": []
    },
    {
      "cell_type": "code",
      "source": [
        "train[category_cols]"
      ],
      "metadata": {
        "colab": {
          "base_uri": "https://localhost:8080/",
          "height": 423
        },
        "id": "BM_1jRi578nb",
        "outputId": "971b1c28-7573-4bd7-d56b-bcfdbe703c40"
      },
      "execution_count": 37,
      "outputs": [
        {
          "output_type": "execute_result",
          "data": {
            "text/plain": [
              "     pclass  gender embarked\n",
              "0         2    male        S\n",
              "1         3  female        Q\n",
              "2         1  female        S\n",
              "3         3    male        S\n",
              "4         2    male        S\n",
              "..      ...     ...      ...\n",
              "911       3    male        C\n",
              "912       3    male        S\n",
              "913       2    male        S\n",
              "914       3  female        Q\n",
              "915       1  female        C\n",
              "\n",
              "[916 rows x 3 columns]"
            ],
            "text/html": [
              "\n",
              "  <div id=\"df-b08c2e96-9825-411a-9de3-f68cf5ceceac\">\n",
              "    <div class=\"colab-df-container\">\n",
              "      <div>\n",
              "<style scoped>\n",
              "    .dataframe tbody tr th:only-of-type {\n",
              "        vertical-align: middle;\n",
              "    }\n",
              "\n",
              "    .dataframe tbody tr th {\n",
              "        vertical-align: top;\n",
              "    }\n",
              "\n",
              "    .dataframe thead th {\n",
              "        text-align: right;\n",
              "    }\n",
              "</style>\n",
              "<table border=\"1\" class=\"dataframe\">\n",
              "  <thead>\n",
              "    <tr style=\"text-align: right;\">\n",
              "      <th></th>\n",
              "      <th>pclass</th>\n",
              "      <th>gender</th>\n",
              "      <th>embarked</th>\n",
              "    </tr>\n",
              "  </thead>\n",
              "  <tbody>\n",
              "    <tr>\n",
              "      <th>0</th>\n",
              "      <td>2</td>\n",
              "      <td>male</td>\n",
              "      <td>S</td>\n",
              "    </tr>\n",
              "    <tr>\n",
              "      <th>1</th>\n",
              "      <td>3</td>\n",
              "      <td>female</td>\n",
              "      <td>Q</td>\n",
              "    </tr>\n",
              "    <tr>\n",
              "      <th>2</th>\n",
              "      <td>1</td>\n",
              "      <td>female</td>\n",
              "      <td>S</td>\n",
              "    </tr>\n",
              "    <tr>\n",
              "      <th>3</th>\n",
              "      <td>3</td>\n",
              "      <td>male</td>\n",
              "      <td>S</td>\n",
              "    </tr>\n",
              "    <tr>\n",
              "      <th>4</th>\n",
              "      <td>2</td>\n",
              "      <td>male</td>\n",
              "      <td>S</td>\n",
              "    </tr>\n",
              "    <tr>\n",
              "      <th>...</th>\n",
              "      <td>...</td>\n",
              "      <td>...</td>\n",
              "      <td>...</td>\n",
              "    </tr>\n",
              "    <tr>\n",
              "      <th>911</th>\n",
              "      <td>3</td>\n",
              "      <td>male</td>\n",
              "      <td>C</td>\n",
              "    </tr>\n",
              "    <tr>\n",
              "      <th>912</th>\n",
              "      <td>3</td>\n",
              "      <td>male</td>\n",
              "      <td>S</td>\n",
              "    </tr>\n",
              "    <tr>\n",
              "      <th>913</th>\n",
              "      <td>2</td>\n",
              "      <td>male</td>\n",
              "      <td>S</td>\n",
              "    </tr>\n",
              "    <tr>\n",
              "      <th>914</th>\n",
              "      <td>3</td>\n",
              "      <td>female</td>\n",
              "      <td>Q</td>\n",
              "    </tr>\n",
              "    <tr>\n",
              "      <th>915</th>\n",
              "      <td>1</td>\n",
              "      <td>female</td>\n",
              "      <td>C</td>\n",
              "    </tr>\n",
              "  </tbody>\n",
              "</table>\n",
              "<p>916 rows × 3 columns</p>\n",
              "</div>\n",
              "      <button class=\"colab-df-convert\" onclick=\"convertToInteractive('df-b08c2e96-9825-411a-9de3-f68cf5ceceac')\"\n",
              "              title=\"Convert this dataframe to an interactive table.\"\n",
              "              style=\"display:none;\">\n",
              "        \n",
              "  <svg xmlns=\"http://www.w3.org/2000/svg\" height=\"24px\"viewBox=\"0 0 24 24\"\n",
              "       width=\"24px\">\n",
              "    <path d=\"M0 0h24v24H0V0z\" fill=\"none\"/>\n",
              "    <path d=\"M18.56 5.44l.94 2.06.94-2.06 2.06-.94-2.06-.94-.94-2.06-.94 2.06-2.06.94zm-11 1L8.5 8.5l.94-2.06 2.06-.94-2.06-.94L8.5 2.5l-.94 2.06-2.06.94zm10 10l.94 2.06.94-2.06 2.06-.94-2.06-.94-.94-2.06-.94 2.06-2.06.94z\"/><path d=\"M17.41 7.96l-1.37-1.37c-.4-.4-.92-.59-1.43-.59-.52 0-1.04.2-1.43.59L10.3 9.45l-7.72 7.72c-.78.78-.78 2.05 0 2.83L4 21.41c.39.39.9.59 1.41.59.51 0 1.02-.2 1.41-.59l7.78-7.78 2.81-2.81c.8-.78.8-2.07 0-2.86zM5.41 20L4 18.59l7.72-7.72 1.47 1.35L5.41 20z\"/>\n",
              "  </svg>\n",
              "      </button>\n",
              "      \n",
              "  <style>\n",
              "    .colab-df-container {\n",
              "      display:flex;\n",
              "      flex-wrap:wrap;\n",
              "      gap: 12px;\n",
              "    }\n",
              "\n",
              "    .colab-df-convert {\n",
              "      background-color: #E8F0FE;\n",
              "      border: none;\n",
              "      border-radius: 50%;\n",
              "      cursor: pointer;\n",
              "      display: none;\n",
              "      fill: #1967D2;\n",
              "      height: 32px;\n",
              "      padding: 0 0 0 0;\n",
              "      width: 32px;\n",
              "    }\n",
              "\n",
              "    .colab-df-convert:hover {\n",
              "      background-color: #E2EBFA;\n",
              "      box-shadow: 0px 1px 2px rgba(60, 64, 67, 0.3), 0px 1px 3px 1px rgba(60, 64, 67, 0.15);\n",
              "      fill: #174EA6;\n",
              "    }\n",
              "\n",
              "    [theme=dark] .colab-df-convert {\n",
              "      background-color: #3B4455;\n",
              "      fill: #D2E3FC;\n",
              "    }\n",
              "\n",
              "    [theme=dark] .colab-df-convert:hover {\n",
              "      background-color: #434B5C;\n",
              "      box-shadow: 0px 1px 3px 1px rgba(0, 0, 0, 0.15);\n",
              "      filter: drop-shadow(0px 1px 2px rgba(0, 0, 0, 0.3));\n",
              "      fill: #FFFFFF;\n",
              "    }\n",
              "  </style>\n",
              "\n",
              "      <script>\n",
              "        const buttonEl =\n",
              "          document.querySelector('#df-b08c2e96-9825-411a-9de3-f68cf5ceceac button.colab-df-convert');\n",
              "        buttonEl.style.display =\n",
              "          google.colab.kernel.accessAllowed ? 'block' : 'none';\n",
              "\n",
              "        async function convertToInteractive(key) {\n",
              "          const element = document.querySelector('#df-b08c2e96-9825-411a-9de3-f68cf5ceceac');\n",
              "          const dataTable =\n",
              "            await google.colab.kernel.invokeFunction('convertToInteractive',\n",
              "                                                     [key], {});\n",
              "          if (!dataTable) return;\n",
              "\n",
              "          const docLinkHtml = 'Like what you see? Visit the ' +\n",
              "            '<a target=\"_blank\" href=https://colab.research.google.com/notebooks/data_table.ipynb>data table notebook</a>'\n",
              "            + ' to learn more about interactive tables.';\n",
              "          element.innerHTML = '';\n",
              "          dataTable['output_type'] = 'display_data';\n",
              "          await google.colab.output.renderOutput(dataTable, element);\n",
              "          const docLink = document.createElement('div');\n",
              "          docLink.innerHTML = docLinkHtml;\n",
              "          element.appendChild(docLink);\n",
              "        }\n",
              "      </script>\n",
              "    </div>\n",
              "  </div>\n",
              "  "
            ]
          },
          "metadata": {},
          "execution_count": 37
        }
      ]
    },
    {
      "cell_type": "code",
      "source": [
        "encoder = ce.OneHotEncoder(use_cat_names = True)\n",
        "enco_tr = pd.DataFrame()\n",
        "enco_te = pd.DataFrame()\n",
        "\n",
        "for col in train[category_cols].columns:\n",
        "  _enco = encoder.fit_transform(train[col].astype('category'))\n",
        "  enco_tr = pd.concat([enco_tr, _enco], axis=1)\n",
        "\n",
        "  _enco = encoder.transform(test[col].astype('category'))\n",
        "  enco_te = pd.concat([enco_te, _enco], axis=1)"
      ],
      "metadata": {
        "id": "AKgC9hH2-Q34"
      },
      "execution_count": 38,
      "outputs": []
    },
    {
      "cell_type": "code",
      "source": [
        "enco_tr.head()"
      ],
      "metadata": {
        "colab": {
          "base_uri": "https://localhost:8080/",
          "height": 270
        },
        "id": "6N3GYXT97JWR",
        "outputId": "c37e9941-7a95-4441-8e8c-08221cdc3112"
      },
      "execution_count": 39,
      "outputs": [
        {
          "output_type": "execute_result",
          "data": {
            "text/plain": [
              "   pclass_2.0  pclass_3.0  pclass_1.0  gender_male  gender_female  embarked_S  \\\n",
              "0           1           0           0            1              0           1   \n",
              "1           0           1           0            0              1           0   \n",
              "2           0           0           1            0              1           1   \n",
              "3           0           1           0            1              0           1   \n",
              "4           1           0           0            1              0           1   \n",
              "\n",
              "   embarked_Q  embarked_C  \n",
              "0           0           0  \n",
              "1           1           0  \n",
              "2           0           0  \n",
              "3           0           0  \n",
              "4           0           0  "
            ],
            "text/html": [
              "\n",
              "  <div id=\"df-c1c60137-6ae5-4818-801a-7060bda803fc\">\n",
              "    <div class=\"colab-df-container\">\n",
              "      <div>\n",
              "<style scoped>\n",
              "    .dataframe tbody tr th:only-of-type {\n",
              "        vertical-align: middle;\n",
              "    }\n",
              "\n",
              "    .dataframe tbody tr th {\n",
              "        vertical-align: top;\n",
              "    }\n",
              "\n",
              "    .dataframe thead th {\n",
              "        text-align: right;\n",
              "    }\n",
              "</style>\n",
              "<table border=\"1\" class=\"dataframe\">\n",
              "  <thead>\n",
              "    <tr style=\"text-align: right;\">\n",
              "      <th></th>\n",
              "      <th>pclass_2.0</th>\n",
              "      <th>pclass_3.0</th>\n",
              "      <th>pclass_1.0</th>\n",
              "      <th>gender_male</th>\n",
              "      <th>gender_female</th>\n",
              "      <th>embarked_S</th>\n",
              "      <th>embarked_Q</th>\n",
              "      <th>embarked_C</th>\n",
              "    </tr>\n",
              "  </thead>\n",
              "  <tbody>\n",
              "    <tr>\n",
              "      <th>0</th>\n",
              "      <td>1</td>\n",
              "      <td>0</td>\n",
              "      <td>0</td>\n",
              "      <td>1</td>\n",
              "      <td>0</td>\n",
              "      <td>1</td>\n",
              "      <td>0</td>\n",
              "      <td>0</td>\n",
              "    </tr>\n",
              "    <tr>\n",
              "      <th>1</th>\n",
              "      <td>0</td>\n",
              "      <td>1</td>\n",
              "      <td>0</td>\n",
              "      <td>0</td>\n",
              "      <td>1</td>\n",
              "      <td>0</td>\n",
              "      <td>1</td>\n",
              "      <td>0</td>\n",
              "    </tr>\n",
              "    <tr>\n",
              "      <th>2</th>\n",
              "      <td>0</td>\n",
              "      <td>0</td>\n",
              "      <td>1</td>\n",
              "      <td>0</td>\n",
              "      <td>1</td>\n",
              "      <td>1</td>\n",
              "      <td>0</td>\n",
              "      <td>0</td>\n",
              "    </tr>\n",
              "    <tr>\n",
              "      <th>3</th>\n",
              "      <td>0</td>\n",
              "      <td>1</td>\n",
              "      <td>0</td>\n",
              "      <td>1</td>\n",
              "      <td>0</td>\n",
              "      <td>1</td>\n",
              "      <td>0</td>\n",
              "      <td>0</td>\n",
              "    </tr>\n",
              "    <tr>\n",
              "      <th>4</th>\n",
              "      <td>1</td>\n",
              "      <td>0</td>\n",
              "      <td>0</td>\n",
              "      <td>1</td>\n",
              "      <td>0</td>\n",
              "      <td>1</td>\n",
              "      <td>0</td>\n",
              "      <td>0</td>\n",
              "    </tr>\n",
              "  </tbody>\n",
              "</table>\n",
              "</div>\n",
              "      <button class=\"colab-df-convert\" onclick=\"convertToInteractive('df-c1c60137-6ae5-4818-801a-7060bda803fc')\"\n",
              "              title=\"Convert this dataframe to an interactive table.\"\n",
              "              style=\"display:none;\">\n",
              "        \n",
              "  <svg xmlns=\"http://www.w3.org/2000/svg\" height=\"24px\"viewBox=\"0 0 24 24\"\n",
              "       width=\"24px\">\n",
              "    <path d=\"M0 0h24v24H0V0z\" fill=\"none\"/>\n",
              "    <path d=\"M18.56 5.44l.94 2.06.94-2.06 2.06-.94-2.06-.94-.94-2.06-.94 2.06-2.06.94zm-11 1L8.5 8.5l.94-2.06 2.06-.94-2.06-.94L8.5 2.5l-.94 2.06-2.06.94zm10 10l.94 2.06.94-2.06 2.06-.94-2.06-.94-.94-2.06-.94 2.06-2.06.94z\"/><path d=\"M17.41 7.96l-1.37-1.37c-.4-.4-.92-.59-1.43-.59-.52 0-1.04.2-1.43.59L10.3 9.45l-7.72 7.72c-.78.78-.78 2.05 0 2.83L4 21.41c.39.39.9.59 1.41.59.51 0 1.02-.2 1.41-.59l7.78-7.78 2.81-2.81c.8-.78.8-2.07 0-2.86zM5.41 20L4 18.59l7.72-7.72 1.47 1.35L5.41 20z\"/>\n",
              "  </svg>\n",
              "      </button>\n",
              "      \n",
              "  <style>\n",
              "    .colab-df-container {\n",
              "      display:flex;\n",
              "      flex-wrap:wrap;\n",
              "      gap: 12px;\n",
              "    }\n",
              "\n",
              "    .colab-df-convert {\n",
              "      background-color: #E8F0FE;\n",
              "      border: none;\n",
              "      border-radius: 50%;\n",
              "      cursor: pointer;\n",
              "      display: none;\n",
              "      fill: #1967D2;\n",
              "      height: 32px;\n",
              "      padding: 0 0 0 0;\n",
              "      width: 32px;\n",
              "    }\n",
              "\n",
              "    .colab-df-convert:hover {\n",
              "      background-color: #E2EBFA;\n",
              "      box-shadow: 0px 1px 2px rgba(60, 64, 67, 0.3), 0px 1px 3px 1px rgba(60, 64, 67, 0.15);\n",
              "      fill: #174EA6;\n",
              "    }\n",
              "\n",
              "    [theme=dark] .colab-df-convert {\n",
              "      background-color: #3B4455;\n",
              "      fill: #D2E3FC;\n",
              "    }\n",
              "\n",
              "    [theme=dark] .colab-df-convert:hover {\n",
              "      background-color: #434B5C;\n",
              "      box-shadow: 0px 1px 3px 1px rgba(0, 0, 0, 0.15);\n",
              "      filter: drop-shadow(0px 1px 2px rgba(0, 0, 0, 0.3));\n",
              "      fill: #FFFFFF;\n",
              "    }\n",
              "  </style>\n",
              "\n",
              "      <script>\n",
              "        const buttonEl =\n",
              "          document.querySelector('#df-c1c60137-6ae5-4818-801a-7060bda803fc button.colab-df-convert');\n",
              "        buttonEl.style.display =\n",
              "          google.colab.kernel.accessAllowed ? 'block' : 'none';\n",
              "\n",
              "        async function convertToInteractive(key) {\n",
              "          const element = document.querySelector('#df-c1c60137-6ae5-4818-801a-7060bda803fc');\n",
              "          const dataTable =\n",
              "            await google.colab.kernel.invokeFunction('convertToInteractive',\n",
              "                                                     [key], {});\n",
              "          if (!dataTable) return;\n",
              "\n",
              "          const docLinkHtml = 'Like what you see? Visit the ' +\n",
              "            '<a target=\"_blank\" href=https://colab.research.google.com/notebooks/data_table.ipynb>data table notebook</a>'\n",
              "            + ' to learn more about interactive tables.';\n",
              "          element.innerHTML = '';\n",
              "          dataTable['output_type'] = 'display_data';\n",
              "          await google.colab.output.renderOutput(dataTable, element);\n",
              "          const docLink = document.createElement('div');\n",
              "          docLink.innerHTML = docLinkHtml;\n",
              "          element.appendChild(docLink);\n",
              "        }\n",
              "      </script>\n",
              "    </div>\n",
              "  </div>\n",
              "  "
            ]
          },
          "metadata": {},
          "execution_count": 39
        }
      ]
    },
    {
      "cell_type": "code",
      "source": [
        "enco_te.head()"
      ],
      "metadata": {
        "colab": {
          "base_uri": "https://localhost:8080/",
          "height": 270
        },
        "id": "CaUUCKfb_hr6",
        "outputId": "d797b933-6c0b-40e0-fb6e-6a520b0ec855"
      },
      "execution_count": 40,
      "outputs": [
        {
          "output_type": "execute_result",
          "data": {
            "text/plain": [
              "   pclass_2.0  pclass_3.0  pclass_1.0  gender_male  gender_female  embarked_S  \\\n",
              "0           0           1           0            0              1           0   \n",
              "1           1           0           0            0              1           1   \n",
              "2           0           1           0            0              1           0   \n",
              "3           0           1           0            1              0           1   \n",
              "4           0           0           1            0              1           1   \n",
              "\n",
              "   embarked_Q  embarked_C  \n",
              "0           1           0  \n",
              "1           0           0  \n",
              "2           1           0  \n",
              "3           0           0  \n",
              "4           0           0  "
            ],
            "text/html": [
              "\n",
              "  <div id=\"df-bed76a28-0b82-4b15-9a20-21948ad4fa19\">\n",
              "    <div class=\"colab-df-container\">\n",
              "      <div>\n",
              "<style scoped>\n",
              "    .dataframe tbody tr th:only-of-type {\n",
              "        vertical-align: middle;\n",
              "    }\n",
              "\n",
              "    .dataframe tbody tr th {\n",
              "        vertical-align: top;\n",
              "    }\n",
              "\n",
              "    .dataframe thead th {\n",
              "        text-align: right;\n",
              "    }\n",
              "</style>\n",
              "<table border=\"1\" class=\"dataframe\">\n",
              "  <thead>\n",
              "    <tr style=\"text-align: right;\">\n",
              "      <th></th>\n",
              "      <th>pclass_2.0</th>\n",
              "      <th>pclass_3.0</th>\n",
              "      <th>pclass_1.0</th>\n",
              "      <th>gender_male</th>\n",
              "      <th>gender_female</th>\n",
              "      <th>embarked_S</th>\n",
              "      <th>embarked_Q</th>\n",
              "      <th>embarked_C</th>\n",
              "    </tr>\n",
              "  </thead>\n",
              "  <tbody>\n",
              "    <tr>\n",
              "      <th>0</th>\n",
              "      <td>0</td>\n",
              "      <td>1</td>\n",
              "      <td>0</td>\n",
              "      <td>0</td>\n",
              "      <td>1</td>\n",
              "      <td>0</td>\n",
              "      <td>1</td>\n",
              "      <td>0</td>\n",
              "    </tr>\n",
              "    <tr>\n",
              "      <th>1</th>\n",
              "      <td>1</td>\n",
              "      <td>0</td>\n",
              "      <td>0</td>\n",
              "      <td>0</td>\n",
              "      <td>1</td>\n",
              "      <td>1</td>\n",
              "      <td>0</td>\n",
              "      <td>0</td>\n",
              "    </tr>\n",
              "    <tr>\n",
              "      <th>2</th>\n",
              "      <td>0</td>\n",
              "      <td>1</td>\n",
              "      <td>0</td>\n",
              "      <td>0</td>\n",
              "      <td>1</td>\n",
              "      <td>0</td>\n",
              "      <td>1</td>\n",
              "      <td>0</td>\n",
              "    </tr>\n",
              "    <tr>\n",
              "      <th>3</th>\n",
              "      <td>0</td>\n",
              "      <td>1</td>\n",
              "      <td>0</td>\n",
              "      <td>1</td>\n",
              "      <td>0</td>\n",
              "      <td>1</td>\n",
              "      <td>0</td>\n",
              "      <td>0</td>\n",
              "    </tr>\n",
              "    <tr>\n",
              "      <th>4</th>\n",
              "      <td>0</td>\n",
              "      <td>0</td>\n",
              "      <td>1</td>\n",
              "      <td>0</td>\n",
              "      <td>1</td>\n",
              "      <td>1</td>\n",
              "      <td>0</td>\n",
              "      <td>0</td>\n",
              "    </tr>\n",
              "  </tbody>\n",
              "</table>\n",
              "</div>\n",
              "      <button class=\"colab-df-convert\" onclick=\"convertToInteractive('df-bed76a28-0b82-4b15-9a20-21948ad4fa19')\"\n",
              "              title=\"Convert this dataframe to an interactive table.\"\n",
              "              style=\"display:none;\">\n",
              "        \n",
              "  <svg xmlns=\"http://www.w3.org/2000/svg\" height=\"24px\"viewBox=\"0 0 24 24\"\n",
              "       width=\"24px\">\n",
              "    <path d=\"M0 0h24v24H0V0z\" fill=\"none\"/>\n",
              "    <path d=\"M18.56 5.44l.94 2.06.94-2.06 2.06-.94-2.06-.94-.94-2.06-.94 2.06-2.06.94zm-11 1L8.5 8.5l.94-2.06 2.06-.94-2.06-.94L8.5 2.5l-.94 2.06-2.06.94zm10 10l.94 2.06.94-2.06 2.06-.94-2.06-.94-.94-2.06-.94 2.06-2.06.94z\"/><path d=\"M17.41 7.96l-1.37-1.37c-.4-.4-.92-.59-1.43-.59-.52 0-1.04.2-1.43.59L10.3 9.45l-7.72 7.72c-.78.78-.78 2.05 0 2.83L4 21.41c.39.39.9.59 1.41.59.51 0 1.02-.2 1.41-.59l7.78-7.78 2.81-2.81c.8-.78.8-2.07 0-2.86zM5.41 20L4 18.59l7.72-7.72 1.47 1.35L5.41 20z\"/>\n",
              "  </svg>\n",
              "      </button>\n",
              "      \n",
              "  <style>\n",
              "    .colab-df-container {\n",
              "      display:flex;\n",
              "      flex-wrap:wrap;\n",
              "      gap: 12px;\n",
              "    }\n",
              "\n",
              "    .colab-df-convert {\n",
              "      background-color: #E8F0FE;\n",
              "      border: none;\n",
              "      border-radius: 50%;\n",
              "      cursor: pointer;\n",
              "      display: none;\n",
              "      fill: #1967D2;\n",
              "      height: 32px;\n",
              "      padding: 0 0 0 0;\n",
              "      width: 32px;\n",
              "    }\n",
              "\n",
              "    .colab-df-convert:hover {\n",
              "      background-color: #E2EBFA;\n",
              "      box-shadow: 0px 1px 2px rgba(60, 64, 67, 0.3), 0px 1px 3px 1px rgba(60, 64, 67, 0.15);\n",
              "      fill: #174EA6;\n",
              "    }\n",
              "\n",
              "    [theme=dark] .colab-df-convert {\n",
              "      background-color: #3B4455;\n",
              "      fill: #D2E3FC;\n",
              "    }\n",
              "\n",
              "    [theme=dark] .colab-df-convert:hover {\n",
              "      background-color: #434B5C;\n",
              "      box-shadow: 0px 1px 3px 1px rgba(0, 0, 0, 0.15);\n",
              "      filter: drop-shadow(0px 1px 2px rgba(0, 0, 0, 0.3));\n",
              "      fill: #FFFFFF;\n",
              "    }\n",
              "  </style>\n",
              "\n",
              "      <script>\n",
              "        const buttonEl =\n",
              "          document.querySelector('#df-bed76a28-0b82-4b15-9a20-21948ad4fa19 button.colab-df-convert');\n",
              "        buttonEl.style.display =\n",
              "          google.colab.kernel.accessAllowed ? 'block' : 'none';\n",
              "\n",
              "        async function convertToInteractive(key) {\n",
              "          const element = document.querySelector('#df-bed76a28-0b82-4b15-9a20-21948ad4fa19');\n",
              "          const dataTable =\n",
              "            await google.colab.kernel.invokeFunction('convertToInteractive',\n",
              "                                                     [key], {});\n",
              "          if (!dataTable) return;\n",
              "\n",
              "          const docLinkHtml = 'Like what you see? Visit the ' +\n",
              "            '<a target=\"_blank\" href=https://colab.research.google.com/notebooks/data_table.ipynb>data table notebook</a>'\n",
              "            + ' to learn more about interactive tables.';\n",
              "          element.innerHTML = '';\n",
              "          dataTable['output_type'] = 'display_data';\n",
              "          await google.colab.output.renderOutput(dataTable, element);\n",
              "          const docLink = document.createElement('div');\n",
              "          docLink.innerHTML = docLinkHtml;\n",
              "          element.appendChild(docLink);\n",
              "        }\n",
              "      </script>\n",
              "    </div>\n",
              "  </div>\n",
              "  "
            ]
          },
          "metadata": {},
          "execution_count": 40
        }
      ]
    },
    {
      "cell_type": "code",
      "source": [
        "print(f'{enco_tr.shape} / {enco_te.shape}')"
      ],
      "metadata": {
        "colab": {
          "base_uri": "https://localhost:8080/"
        },
        "id": "JINyRRDJ_lcE",
        "outputId": "45556788-d4eb-42b4-a50b-f0ab4b943d8c"
      },
      "execution_count": 41,
      "outputs": [
        {
          "output_type": "stream",
          "name": "stdout",
          "text": [
            "(916, 8) / (393, 8)\n"
          ]
        }
      ]
    },
    {
      "cell_type": "markdown",
      "source": [
        "# train_test_split"
      ],
      "metadata": {
        "id": "0uR0jJrc1yf8"
      }
    },
    {
      "cell_type": "code",
      "source": [
        "df_train = pd.concat([enco_tr, train[continous_cols], train['survived']], axis = 1)\n",
        "df_test = pd.concat([enco_te, test[continous_cols]], axis = 1)"
      ],
      "metadata": {
        "id": "Hb3A2z7kC8na"
      },
      "execution_count": 42,
      "outputs": []
    },
    {
      "cell_type": "code",
      "source": [
        "df_train.shape, df_test.shape"
      ],
      "metadata": {
        "colab": {
          "base_uri": "https://localhost:8080/"
        },
        "id": "_B7rooi5B3oZ",
        "outputId": "8abd8cff-9862-41ff-f4db-a33bf2ea4fd4"
      },
      "execution_count": 43,
      "outputs": [
        {
          "output_type": "execute_result",
          "data": {
            "text/plain": [
              "((916, 13), (393, 12))"
            ]
          },
          "metadata": {},
          "execution_count": 43
        }
      ]
    },
    {
      "cell_type": "code",
      "source": [
        "df_train.isnull().sum().sum(), df_test.isnull().sum().sum()"
      ],
      "metadata": {
        "colab": {
          "base_uri": "https://localhost:8080/"
        },
        "id": "6gRgdE3iCD18",
        "outputId": "461f32a6-7378-499f-b427-8724aa04f64f"
      },
      "execution_count": 44,
      "outputs": [
        {
          "output_type": "execute_result",
          "data": {
            "text/plain": [
              "(0, 0)"
            ]
          },
          "metadata": {},
          "execution_count": 44
        }
      ]
    },
    {
      "cell_type": "code",
      "source": [
        "df_train.corr()"
      ],
      "metadata": {
        "colab": {
          "base_uri": "https://localhost:8080/",
          "height": 521
        },
        "id": "whevilrm6XyC",
        "outputId": "e8fa376e-be2c-4f4c-f1da-796f8a54d9cc"
      },
      "execution_count": 45,
      "outputs": [
        {
          "output_type": "execute_result",
          "data": {
            "text/plain": [
              "               pclass_2.0  pclass_3.0  pclass_1.0  gender_male  gender_female  \\\n",
              "pclass_2.0       1.000000   -0.562074   -0.297533    -0.015306       0.015306   \n",
              "pclass_3.0      -0.562074    1.000000   -0.622393     0.103827      -0.103827   \n",
              "pclass_1.0      -0.297533   -0.622393    1.000000    -0.105363       0.105363   \n",
              "gender_male     -0.015306    0.103827   -0.105363     1.000000      -1.000000   \n",
              "gender_female    0.015306   -0.103827    0.105363    -1.000000       1.000000   \n",
              "embarked_S       0.212050    0.013963   -0.216788     0.118012      -0.118012   \n",
              "embarked_Q      -0.142625    0.248658   -0.152055    -0.113033       0.113033   \n",
              "embarked_C      -0.138846   -0.190189    0.350932    -0.053658       0.053658   \n",
              "age              0.015278   -0.321986    0.357212     0.060446      -0.060446   \n",
              "sibsp           -0.060083    0.083313   -0.039310    -0.102554       0.102554   \n",
              "parch           -0.026160    0.061222   -0.045913    -0.219813       0.219813   \n",
              "fare            -0.123377   -0.404621    0.583814    -0.163040       0.163040   \n",
              "survived         0.014994   -0.216771    0.236031    -0.702553       0.702553   \n",
              "\n",
              "               embarked_S  embarked_Q  embarked_C       age     sibsp  \\\n",
              "pclass_2.0       0.212050   -0.142625   -0.138846  0.015278 -0.060083   \n",
              "pclass_3.0       0.013963    0.248658   -0.190189 -0.321986  0.083313   \n",
              "pclass_1.0      -0.216788   -0.152055    0.350932  0.357212 -0.039310   \n",
              "gender_male      0.118012   -0.113033   -0.053658  0.060446 -0.102554   \n",
              "gender_female   -0.118012    0.113033    0.053658 -0.060446  0.102554   \n",
              "embarked_S       1.000000   -0.481763   -0.788675 -0.052979  0.064345   \n",
              "embarked_Q      -0.481763    1.000000   -0.158805 -0.023882 -0.048305   \n",
              "embarked_C      -0.788675   -0.158805    1.000000  0.076446 -0.038606   \n",
              "age             -0.052979   -0.023882    0.076446  1.000000 -0.204688   \n",
              "sibsp            0.064345   -0.048305   -0.038606 -0.204688  1.000000   \n",
              "parch            0.062394   -0.094176   -0.004224 -0.145331  0.386491   \n",
              "fare            -0.209283   -0.115714    0.316979  0.138298  0.162144   \n",
              "survived        -0.148229    0.074584    0.114679 -0.024610  0.002924   \n",
              "\n",
              "                  parch      fare  survived  \n",
              "pclass_2.0    -0.026160 -0.123377  0.014994  \n",
              "pclass_3.0     0.061222 -0.404621 -0.216771  \n",
              "pclass_1.0    -0.045913  0.583814  0.236031  \n",
              "gender_male   -0.219813 -0.163040 -0.702553  \n",
              "gender_female  0.219813  0.163040  0.702553  \n",
              "embarked_S     0.062394 -0.209283 -0.148229  \n",
              "embarked_Q    -0.094176 -0.115714  0.074584  \n",
              "embarked_C    -0.004224  0.316979  0.114679  \n",
              "age           -0.145331  0.138298 -0.024610  \n",
              "sibsp          0.386491  0.162144  0.002924  \n",
              "parch          1.000000  0.181826  0.084269  \n",
              "fare           0.181826  1.000000  0.224068  \n",
              "survived       0.084269  0.224068  1.000000  "
            ],
            "text/html": [
              "\n",
              "  <div id=\"df-2a8de06d-f324-4554-a819-da69d99150d5\">\n",
              "    <div class=\"colab-df-container\">\n",
              "      <div>\n",
              "<style scoped>\n",
              "    .dataframe tbody tr th:only-of-type {\n",
              "        vertical-align: middle;\n",
              "    }\n",
              "\n",
              "    .dataframe tbody tr th {\n",
              "        vertical-align: top;\n",
              "    }\n",
              "\n",
              "    .dataframe thead th {\n",
              "        text-align: right;\n",
              "    }\n",
              "</style>\n",
              "<table border=\"1\" class=\"dataframe\">\n",
              "  <thead>\n",
              "    <tr style=\"text-align: right;\">\n",
              "      <th></th>\n",
              "      <th>pclass_2.0</th>\n",
              "      <th>pclass_3.0</th>\n",
              "      <th>pclass_1.0</th>\n",
              "      <th>gender_male</th>\n",
              "      <th>gender_female</th>\n",
              "      <th>embarked_S</th>\n",
              "      <th>embarked_Q</th>\n",
              "      <th>embarked_C</th>\n",
              "      <th>age</th>\n",
              "      <th>sibsp</th>\n",
              "      <th>parch</th>\n",
              "      <th>fare</th>\n",
              "      <th>survived</th>\n",
              "    </tr>\n",
              "  </thead>\n",
              "  <tbody>\n",
              "    <tr>\n",
              "      <th>pclass_2.0</th>\n",
              "      <td>1.000000</td>\n",
              "      <td>-0.562074</td>\n",
              "      <td>-0.297533</td>\n",
              "      <td>-0.015306</td>\n",
              "      <td>0.015306</td>\n",
              "      <td>0.212050</td>\n",
              "      <td>-0.142625</td>\n",
              "      <td>-0.138846</td>\n",
              "      <td>0.015278</td>\n",
              "      <td>-0.060083</td>\n",
              "      <td>-0.026160</td>\n",
              "      <td>-0.123377</td>\n",
              "      <td>0.014994</td>\n",
              "    </tr>\n",
              "    <tr>\n",
              "      <th>pclass_3.0</th>\n",
              "      <td>-0.562074</td>\n",
              "      <td>1.000000</td>\n",
              "      <td>-0.622393</td>\n",
              "      <td>0.103827</td>\n",
              "      <td>-0.103827</td>\n",
              "      <td>0.013963</td>\n",
              "      <td>0.248658</td>\n",
              "      <td>-0.190189</td>\n",
              "      <td>-0.321986</td>\n",
              "      <td>0.083313</td>\n",
              "      <td>0.061222</td>\n",
              "      <td>-0.404621</td>\n",
              "      <td>-0.216771</td>\n",
              "    </tr>\n",
              "    <tr>\n",
              "      <th>pclass_1.0</th>\n",
              "      <td>-0.297533</td>\n",
              "      <td>-0.622393</td>\n",
              "      <td>1.000000</td>\n",
              "      <td>-0.105363</td>\n",
              "      <td>0.105363</td>\n",
              "      <td>-0.216788</td>\n",
              "      <td>-0.152055</td>\n",
              "      <td>0.350932</td>\n",
              "      <td>0.357212</td>\n",
              "      <td>-0.039310</td>\n",
              "      <td>-0.045913</td>\n",
              "      <td>0.583814</td>\n",
              "      <td>0.236031</td>\n",
              "    </tr>\n",
              "    <tr>\n",
              "      <th>gender_male</th>\n",
              "      <td>-0.015306</td>\n",
              "      <td>0.103827</td>\n",
              "      <td>-0.105363</td>\n",
              "      <td>1.000000</td>\n",
              "      <td>-1.000000</td>\n",
              "      <td>0.118012</td>\n",
              "      <td>-0.113033</td>\n",
              "      <td>-0.053658</td>\n",
              "      <td>0.060446</td>\n",
              "      <td>-0.102554</td>\n",
              "      <td>-0.219813</td>\n",
              "      <td>-0.163040</td>\n",
              "      <td>-0.702553</td>\n",
              "    </tr>\n",
              "    <tr>\n",
              "      <th>gender_female</th>\n",
              "      <td>0.015306</td>\n",
              "      <td>-0.103827</td>\n",
              "      <td>0.105363</td>\n",
              "      <td>-1.000000</td>\n",
              "      <td>1.000000</td>\n",
              "      <td>-0.118012</td>\n",
              "      <td>0.113033</td>\n",
              "      <td>0.053658</td>\n",
              "      <td>-0.060446</td>\n",
              "      <td>0.102554</td>\n",
              "      <td>0.219813</td>\n",
              "      <td>0.163040</td>\n",
              "      <td>0.702553</td>\n",
              "    </tr>\n",
              "    <tr>\n",
              "      <th>embarked_S</th>\n",
              "      <td>0.212050</td>\n",
              "      <td>0.013963</td>\n",
              "      <td>-0.216788</td>\n",
              "      <td>0.118012</td>\n",
              "      <td>-0.118012</td>\n",
              "      <td>1.000000</td>\n",
              "      <td>-0.481763</td>\n",
              "      <td>-0.788675</td>\n",
              "      <td>-0.052979</td>\n",
              "      <td>0.064345</td>\n",
              "      <td>0.062394</td>\n",
              "      <td>-0.209283</td>\n",
              "      <td>-0.148229</td>\n",
              "    </tr>\n",
              "    <tr>\n",
              "      <th>embarked_Q</th>\n",
              "      <td>-0.142625</td>\n",
              "      <td>0.248658</td>\n",
              "      <td>-0.152055</td>\n",
              "      <td>-0.113033</td>\n",
              "      <td>0.113033</td>\n",
              "      <td>-0.481763</td>\n",
              "      <td>1.000000</td>\n",
              "      <td>-0.158805</td>\n",
              "      <td>-0.023882</td>\n",
              "      <td>-0.048305</td>\n",
              "      <td>-0.094176</td>\n",
              "      <td>-0.115714</td>\n",
              "      <td>0.074584</td>\n",
              "    </tr>\n",
              "    <tr>\n",
              "      <th>embarked_C</th>\n",
              "      <td>-0.138846</td>\n",
              "      <td>-0.190189</td>\n",
              "      <td>0.350932</td>\n",
              "      <td>-0.053658</td>\n",
              "      <td>0.053658</td>\n",
              "      <td>-0.788675</td>\n",
              "      <td>-0.158805</td>\n",
              "      <td>1.000000</td>\n",
              "      <td>0.076446</td>\n",
              "      <td>-0.038606</td>\n",
              "      <td>-0.004224</td>\n",
              "      <td>0.316979</td>\n",
              "      <td>0.114679</td>\n",
              "    </tr>\n",
              "    <tr>\n",
              "      <th>age</th>\n",
              "      <td>0.015278</td>\n",
              "      <td>-0.321986</td>\n",
              "      <td>0.357212</td>\n",
              "      <td>0.060446</td>\n",
              "      <td>-0.060446</td>\n",
              "      <td>-0.052979</td>\n",
              "      <td>-0.023882</td>\n",
              "      <td>0.076446</td>\n",
              "      <td>1.000000</td>\n",
              "      <td>-0.204688</td>\n",
              "      <td>-0.145331</td>\n",
              "      <td>0.138298</td>\n",
              "      <td>-0.024610</td>\n",
              "    </tr>\n",
              "    <tr>\n",
              "      <th>sibsp</th>\n",
              "      <td>-0.060083</td>\n",
              "      <td>0.083313</td>\n",
              "      <td>-0.039310</td>\n",
              "      <td>-0.102554</td>\n",
              "      <td>0.102554</td>\n",
              "      <td>0.064345</td>\n",
              "      <td>-0.048305</td>\n",
              "      <td>-0.038606</td>\n",
              "      <td>-0.204688</td>\n",
              "      <td>1.000000</td>\n",
              "      <td>0.386491</td>\n",
              "      <td>0.162144</td>\n",
              "      <td>0.002924</td>\n",
              "    </tr>\n",
              "    <tr>\n",
              "      <th>parch</th>\n",
              "      <td>-0.026160</td>\n",
              "      <td>0.061222</td>\n",
              "      <td>-0.045913</td>\n",
              "      <td>-0.219813</td>\n",
              "      <td>0.219813</td>\n",
              "      <td>0.062394</td>\n",
              "      <td>-0.094176</td>\n",
              "      <td>-0.004224</td>\n",
              "      <td>-0.145331</td>\n",
              "      <td>0.386491</td>\n",
              "      <td>1.000000</td>\n",
              "      <td>0.181826</td>\n",
              "      <td>0.084269</td>\n",
              "    </tr>\n",
              "    <tr>\n",
              "      <th>fare</th>\n",
              "      <td>-0.123377</td>\n",
              "      <td>-0.404621</td>\n",
              "      <td>0.583814</td>\n",
              "      <td>-0.163040</td>\n",
              "      <td>0.163040</td>\n",
              "      <td>-0.209283</td>\n",
              "      <td>-0.115714</td>\n",
              "      <td>0.316979</td>\n",
              "      <td>0.138298</td>\n",
              "      <td>0.162144</td>\n",
              "      <td>0.181826</td>\n",
              "      <td>1.000000</td>\n",
              "      <td>0.224068</td>\n",
              "    </tr>\n",
              "    <tr>\n",
              "      <th>survived</th>\n",
              "      <td>0.014994</td>\n",
              "      <td>-0.216771</td>\n",
              "      <td>0.236031</td>\n",
              "      <td>-0.702553</td>\n",
              "      <td>0.702553</td>\n",
              "      <td>-0.148229</td>\n",
              "      <td>0.074584</td>\n",
              "      <td>0.114679</td>\n",
              "      <td>-0.024610</td>\n",
              "      <td>0.002924</td>\n",
              "      <td>0.084269</td>\n",
              "      <td>0.224068</td>\n",
              "      <td>1.000000</td>\n",
              "    </tr>\n",
              "  </tbody>\n",
              "</table>\n",
              "</div>\n",
              "      <button class=\"colab-df-convert\" onclick=\"convertToInteractive('df-2a8de06d-f324-4554-a819-da69d99150d5')\"\n",
              "              title=\"Convert this dataframe to an interactive table.\"\n",
              "              style=\"display:none;\">\n",
              "        \n",
              "  <svg xmlns=\"http://www.w3.org/2000/svg\" height=\"24px\"viewBox=\"0 0 24 24\"\n",
              "       width=\"24px\">\n",
              "    <path d=\"M0 0h24v24H0V0z\" fill=\"none\"/>\n",
              "    <path d=\"M18.56 5.44l.94 2.06.94-2.06 2.06-.94-2.06-.94-.94-2.06-.94 2.06-2.06.94zm-11 1L8.5 8.5l.94-2.06 2.06-.94-2.06-.94L8.5 2.5l-.94 2.06-2.06.94zm10 10l.94 2.06.94-2.06 2.06-.94-2.06-.94-.94-2.06-.94 2.06-2.06.94z\"/><path d=\"M17.41 7.96l-1.37-1.37c-.4-.4-.92-.59-1.43-.59-.52 0-1.04.2-1.43.59L10.3 9.45l-7.72 7.72c-.78.78-.78 2.05 0 2.83L4 21.41c.39.39.9.59 1.41.59.51 0 1.02-.2 1.41-.59l7.78-7.78 2.81-2.81c.8-.78.8-2.07 0-2.86zM5.41 20L4 18.59l7.72-7.72 1.47 1.35L5.41 20z\"/>\n",
              "  </svg>\n",
              "      </button>\n",
              "      \n",
              "  <style>\n",
              "    .colab-df-container {\n",
              "      display:flex;\n",
              "      flex-wrap:wrap;\n",
              "      gap: 12px;\n",
              "    }\n",
              "\n",
              "    .colab-df-convert {\n",
              "      background-color: #E8F0FE;\n",
              "      border: none;\n",
              "      border-radius: 50%;\n",
              "      cursor: pointer;\n",
              "      display: none;\n",
              "      fill: #1967D2;\n",
              "      height: 32px;\n",
              "      padding: 0 0 0 0;\n",
              "      width: 32px;\n",
              "    }\n",
              "\n",
              "    .colab-df-convert:hover {\n",
              "      background-color: #E2EBFA;\n",
              "      box-shadow: 0px 1px 2px rgba(60, 64, 67, 0.3), 0px 1px 3px 1px rgba(60, 64, 67, 0.15);\n",
              "      fill: #174EA6;\n",
              "    }\n",
              "\n",
              "    [theme=dark] .colab-df-convert {\n",
              "      background-color: #3B4455;\n",
              "      fill: #D2E3FC;\n",
              "    }\n",
              "\n",
              "    [theme=dark] .colab-df-convert:hover {\n",
              "      background-color: #434B5C;\n",
              "      box-shadow: 0px 1px 3px 1px rgba(0, 0, 0, 0.15);\n",
              "      filter: drop-shadow(0px 1px 2px rgba(0, 0, 0, 0.3));\n",
              "      fill: #FFFFFF;\n",
              "    }\n",
              "  </style>\n",
              "\n",
              "      <script>\n",
              "        const buttonEl =\n",
              "          document.querySelector('#df-2a8de06d-f324-4554-a819-da69d99150d5 button.colab-df-convert');\n",
              "        buttonEl.style.display =\n",
              "          google.colab.kernel.accessAllowed ? 'block' : 'none';\n",
              "\n",
              "        async function convertToInteractive(key) {\n",
              "          const element = document.querySelector('#df-2a8de06d-f324-4554-a819-da69d99150d5');\n",
              "          const dataTable =\n",
              "            await google.colab.kernel.invokeFunction('convertToInteractive',\n",
              "                                                     [key], {});\n",
              "          if (!dataTable) return;\n",
              "\n",
              "          const docLinkHtml = 'Like what you see? Visit the ' +\n",
              "            '<a target=\"_blank\" href=https://colab.research.google.com/notebooks/data_table.ipynb>data table notebook</a>'\n",
              "            + ' to learn more about interactive tables.';\n",
              "          element.innerHTML = '';\n",
              "          dataTable['output_type'] = 'display_data';\n",
              "          await google.colab.output.renderOutput(dataTable, element);\n",
              "          const docLink = document.createElement('div');\n",
              "          docLink.innerHTML = docLinkHtml;\n",
              "          element.appendChild(docLink);\n",
              "        }\n",
              "      </script>\n",
              "    </div>\n",
              "  </div>\n",
              "  "
            ]
          },
          "metadata": {},
          "execution_count": 45
        }
      ]
    },
    {
      "cell_type": "code",
      "source": [
        "from sklearn.model_selection import train_test_split"
      ],
      "metadata": {
        "id": "GoSM2mZX1wx_"
      },
      "execution_count": 46,
      "outputs": []
    },
    {
      "cell_type": "code",
      "source": [
        "df_train.columns"
      ],
      "metadata": {
        "colab": {
          "base_uri": "https://localhost:8080/"
        },
        "id": "xlLvKj4x3BNs",
        "outputId": "5d22b45b-65e2-444c-d381-a1be0ff66c1d"
      },
      "execution_count": 47,
      "outputs": [
        {
          "output_type": "execute_result",
          "data": {
            "text/plain": [
              "Index(['pclass_2.0', 'pclass_3.0', 'pclass_1.0', 'gender_male',\n",
              "       'gender_female', 'embarked_S', 'embarked_Q', 'embarked_C', 'age',\n",
              "       'sibsp', 'parch', 'fare', 'survived'],\n",
              "      dtype='object')"
            ]
          },
          "metadata": {},
          "execution_count": 47
        }
      ]
    },
    {
      "cell_type": "code",
      "source": [
        "df_train.head()"
      ],
      "metadata": {
        "colab": {
          "base_uri": "https://localhost:8080/",
          "height": 270
        },
        "id": "cN2UgnvhFpme",
        "outputId": "4e462472-047e-44c1-bcb9-78101d769e89"
      },
      "execution_count": 48,
      "outputs": [
        {
          "output_type": "execute_result",
          "data": {
            "text/plain": [
              "   pclass_2.0  pclass_3.0  pclass_1.0  gender_male  gender_female  embarked_S  \\\n",
              "0           1           0           0            1              0           1   \n",
              "1           0           1           0            0              1           0   \n",
              "2           0           0           1            0              1           1   \n",
              "3           0           1           0            1              0           1   \n",
              "4           1           0           0            1              0           1   \n",
              "\n",
              "   embarked_Q  embarked_C       age     sibsp     parch      fare  survived  \n",
              "0           0           0 -0.107240 -0.486109 -0.436627 -0.386849         0  \n",
              "1           1           0 -0.107240 -0.486109 -0.436627 -0.488377         0  \n",
              "2           0           0  1.778818  0.471474  0.771683  1.210355         1  \n",
              "3           0           0 -0.185826 -0.486109 -0.436627 -0.487470         1  \n",
              "4           0           0  1.150132  0.471474 -0.436627 -0.126840         0  "
            ],
            "text/html": [
              "\n",
              "  <div id=\"df-6d02113e-39f3-462e-a79f-8c8e816180bc\">\n",
              "    <div class=\"colab-df-container\">\n",
              "      <div>\n",
              "<style scoped>\n",
              "    .dataframe tbody tr th:only-of-type {\n",
              "        vertical-align: middle;\n",
              "    }\n",
              "\n",
              "    .dataframe tbody tr th {\n",
              "        vertical-align: top;\n",
              "    }\n",
              "\n",
              "    .dataframe thead th {\n",
              "        text-align: right;\n",
              "    }\n",
              "</style>\n",
              "<table border=\"1\" class=\"dataframe\">\n",
              "  <thead>\n",
              "    <tr style=\"text-align: right;\">\n",
              "      <th></th>\n",
              "      <th>pclass_2.0</th>\n",
              "      <th>pclass_3.0</th>\n",
              "      <th>pclass_1.0</th>\n",
              "      <th>gender_male</th>\n",
              "      <th>gender_female</th>\n",
              "      <th>embarked_S</th>\n",
              "      <th>embarked_Q</th>\n",
              "      <th>embarked_C</th>\n",
              "      <th>age</th>\n",
              "      <th>sibsp</th>\n",
              "      <th>parch</th>\n",
              "      <th>fare</th>\n",
              "      <th>survived</th>\n",
              "    </tr>\n",
              "  </thead>\n",
              "  <tbody>\n",
              "    <tr>\n",
              "      <th>0</th>\n",
              "      <td>1</td>\n",
              "      <td>0</td>\n",
              "      <td>0</td>\n",
              "      <td>1</td>\n",
              "      <td>0</td>\n",
              "      <td>1</td>\n",
              "      <td>0</td>\n",
              "      <td>0</td>\n",
              "      <td>-0.107240</td>\n",
              "      <td>-0.486109</td>\n",
              "      <td>-0.436627</td>\n",
              "      <td>-0.386849</td>\n",
              "      <td>0</td>\n",
              "    </tr>\n",
              "    <tr>\n",
              "      <th>1</th>\n",
              "      <td>0</td>\n",
              "      <td>1</td>\n",
              "      <td>0</td>\n",
              "      <td>0</td>\n",
              "      <td>1</td>\n",
              "      <td>0</td>\n",
              "      <td>1</td>\n",
              "      <td>0</td>\n",
              "      <td>-0.107240</td>\n",
              "      <td>-0.486109</td>\n",
              "      <td>-0.436627</td>\n",
              "      <td>-0.488377</td>\n",
              "      <td>0</td>\n",
              "    </tr>\n",
              "    <tr>\n",
              "      <th>2</th>\n",
              "      <td>0</td>\n",
              "      <td>0</td>\n",
              "      <td>1</td>\n",
              "      <td>0</td>\n",
              "      <td>1</td>\n",
              "      <td>1</td>\n",
              "      <td>0</td>\n",
              "      <td>0</td>\n",
              "      <td>1.778818</td>\n",
              "      <td>0.471474</td>\n",
              "      <td>0.771683</td>\n",
              "      <td>1.210355</td>\n",
              "      <td>1</td>\n",
              "    </tr>\n",
              "    <tr>\n",
              "      <th>3</th>\n",
              "      <td>0</td>\n",
              "      <td>1</td>\n",
              "      <td>0</td>\n",
              "      <td>1</td>\n",
              "      <td>0</td>\n",
              "      <td>1</td>\n",
              "      <td>0</td>\n",
              "      <td>0</td>\n",
              "      <td>-0.185826</td>\n",
              "      <td>-0.486109</td>\n",
              "      <td>-0.436627</td>\n",
              "      <td>-0.487470</td>\n",
              "      <td>1</td>\n",
              "    </tr>\n",
              "    <tr>\n",
              "      <th>4</th>\n",
              "      <td>1</td>\n",
              "      <td>0</td>\n",
              "      <td>0</td>\n",
              "      <td>1</td>\n",
              "      <td>0</td>\n",
              "      <td>1</td>\n",
              "      <td>0</td>\n",
              "      <td>0</td>\n",
              "      <td>1.150132</td>\n",
              "      <td>0.471474</td>\n",
              "      <td>-0.436627</td>\n",
              "      <td>-0.126840</td>\n",
              "      <td>0</td>\n",
              "    </tr>\n",
              "  </tbody>\n",
              "</table>\n",
              "</div>\n",
              "      <button class=\"colab-df-convert\" onclick=\"convertToInteractive('df-6d02113e-39f3-462e-a79f-8c8e816180bc')\"\n",
              "              title=\"Convert this dataframe to an interactive table.\"\n",
              "              style=\"display:none;\">\n",
              "        \n",
              "  <svg xmlns=\"http://www.w3.org/2000/svg\" height=\"24px\"viewBox=\"0 0 24 24\"\n",
              "       width=\"24px\">\n",
              "    <path d=\"M0 0h24v24H0V0z\" fill=\"none\"/>\n",
              "    <path d=\"M18.56 5.44l.94 2.06.94-2.06 2.06-.94-2.06-.94-.94-2.06-.94 2.06-2.06.94zm-11 1L8.5 8.5l.94-2.06 2.06-.94-2.06-.94L8.5 2.5l-.94 2.06-2.06.94zm10 10l.94 2.06.94-2.06 2.06-.94-2.06-.94-.94-2.06-.94 2.06-2.06.94z\"/><path d=\"M17.41 7.96l-1.37-1.37c-.4-.4-.92-.59-1.43-.59-.52 0-1.04.2-1.43.59L10.3 9.45l-7.72 7.72c-.78.78-.78 2.05 0 2.83L4 21.41c.39.39.9.59 1.41.59.51 0 1.02-.2 1.41-.59l7.78-7.78 2.81-2.81c.8-.78.8-2.07 0-2.86zM5.41 20L4 18.59l7.72-7.72 1.47 1.35L5.41 20z\"/>\n",
              "  </svg>\n",
              "      </button>\n",
              "      \n",
              "  <style>\n",
              "    .colab-df-container {\n",
              "      display:flex;\n",
              "      flex-wrap:wrap;\n",
              "      gap: 12px;\n",
              "    }\n",
              "\n",
              "    .colab-df-convert {\n",
              "      background-color: #E8F0FE;\n",
              "      border: none;\n",
              "      border-radius: 50%;\n",
              "      cursor: pointer;\n",
              "      display: none;\n",
              "      fill: #1967D2;\n",
              "      height: 32px;\n",
              "      padding: 0 0 0 0;\n",
              "      width: 32px;\n",
              "    }\n",
              "\n",
              "    .colab-df-convert:hover {\n",
              "      background-color: #E2EBFA;\n",
              "      box-shadow: 0px 1px 2px rgba(60, 64, 67, 0.3), 0px 1px 3px 1px rgba(60, 64, 67, 0.15);\n",
              "      fill: #174EA6;\n",
              "    }\n",
              "\n",
              "    [theme=dark] .colab-df-convert {\n",
              "      background-color: #3B4455;\n",
              "      fill: #D2E3FC;\n",
              "    }\n",
              "\n",
              "    [theme=dark] .colab-df-convert:hover {\n",
              "      background-color: #434B5C;\n",
              "      box-shadow: 0px 1px 3px 1px rgba(0, 0, 0, 0.15);\n",
              "      filter: drop-shadow(0px 1px 2px rgba(0, 0, 0, 0.3));\n",
              "      fill: #FFFFFF;\n",
              "    }\n",
              "  </style>\n",
              "\n",
              "      <script>\n",
              "        const buttonEl =\n",
              "          document.querySelector('#df-6d02113e-39f3-462e-a79f-8c8e816180bc button.colab-df-convert');\n",
              "        buttonEl.style.display =\n",
              "          google.colab.kernel.accessAllowed ? 'block' : 'none';\n",
              "\n",
              "        async function convertToInteractive(key) {\n",
              "          const element = document.querySelector('#df-6d02113e-39f3-462e-a79f-8c8e816180bc');\n",
              "          const dataTable =\n",
              "            await google.colab.kernel.invokeFunction('convertToInteractive',\n",
              "                                                     [key], {});\n",
              "          if (!dataTable) return;\n",
              "\n",
              "          const docLinkHtml = 'Like what you see? Visit the ' +\n",
              "            '<a target=\"_blank\" href=https://colab.research.google.com/notebooks/data_table.ipynb>data table notebook</a>'\n",
              "            + ' to learn more about interactive tables.';\n",
              "          element.innerHTML = '';\n",
              "          dataTable['output_type'] = 'display_data';\n",
              "          await google.colab.output.renderOutput(dataTable, element);\n",
              "          const docLink = document.createElement('div');\n",
              "          docLink.innerHTML = docLinkHtml;\n",
              "          element.appendChild(docLink);\n",
              "        }\n",
              "      </script>\n",
              "    </div>\n",
              "  </div>\n",
              "  "
            ]
          },
          "metadata": {},
          "execution_count": 48
        }
      ]
    },
    {
      "cell_type": "code",
      "source": [
        "tmp = ['pclass_2.0', 'pclass_3.0', 'pclass_1.0', 'gender_male',\n",
        "       'gender_female', 'age', 'embarked_S', 'embarked_Q', 'embarked_C', 'fare']\n",
        "X = df_train[tmp]\n",
        "y = df_train['survived']\n",
        "df_test = df_test[tmp]\n",
        "\n",
        "X.shape, y.shape, df_test.shape"
      ],
      "metadata": {
        "colab": {
          "base_uri": "https://localhost:8080/"
        },
        "id": "B87wW97PHHPC",
        "outputId": "f4b53012-bf7a-4d9b-e06f-0e8f1d0020b5"
      },
      "execution_count": 49,
      "outputs": [
        {
          "output_type": "execute_result",
          "data": {
            "text/plain": [
              "((916, 10), (916,), (393, 10))"
            ]
          },
          "metadata": {},
          "execution_count": 49
        }
      ]
    },
    {
      "cell_type": "code",
      "source": [
        "X_tr, X_te, y_tr, y_te = train_test_split(X, y, test_size = 0.2, random_state=SEED)\n",
        "X_tr.shape, X_te.shape, y_tr.shape, y_te.shape"
      ],
      "metadata": {
        "colab": {
          "base_uri": "https://localhost:8080/"
        },
        "id": "Z29B7px72svZ",
        "outputId": "cdeb6b84-29d6-4e74-8f99-1d9e54d92119"
      },
      "execution_count": 50,
      "outputs": [
        {
          "output_type": "execute_result",
          "data": {
            "text/plain": [
              "((732, 10), (184, 10), (732,), (184,))"
            ]
          },
          "metadata": {},
          "execution_count": 50
        }
      ]
    },
    {
      "cell_type": "code",
      "source": [
        "X_tr.isnull().sum().sum(), X_te.isnull().sum().sum(), y_tr.isnull().sum().sum(), y_te.isnull().sum().sum()"
      ],
      "metadata": {
        "colab": {
          "base_uri": "https://localhost:8080/"
        },
        "id": "8EgFXEBn3wTO",
        "outputId": "0124ec92-719f-4f04-f60a-a94af408ad2e"
      },
      "execution_count": 51,
      "outputs": [
        {
          "output_type": "execute_result",
          "data": {
            "text/plain": [
              "(0, 0, 0, 0)"
            ]
          },
          "metadata": {},
          "execution_count": 51
        }
      ]
    },
    {
      "cell_type": "markdown",
      "source": [
        "# ModelV3"
      ],
      "metadata": {
        "id": "nYV42ZpB4bfs"
      }
    },
    {
      "cell_type": "code",
      "source": [
        "X_tr_modelV0 = X_tr.copy()\n",
        "X_te_modelV0 = X_te.copy()\n",
        "y_tr_modelV0 = y_tr.copy()\n",
        "y_te_modelV0 = y_te.copy()\n",
        "\n",
        "X_tr_modelV0.shape, X_te_modelV0.shape, y_tr_modelV0.shape, y_te_modelV0.shape"
      ],
      "metadata": {
        "id": "o_ZmtIyZ4JuD",
        "colab": {
          "base_uri": "https://localhost:8080/"
        },
        "outputId": "bce1dd40-d05e-4046-f802-55e77f1a2463"
      },
      "execution_count": 52,
      "outputs": [
        {
          "output_type": "execute_result",
          "data": {
            "text/plain": [
              "((732, 10), (184, 10), (732,), (184,))"
            ]
          },
          "metadata": {},
          "execution_count": 52
        }
      ]
    },
    {
      "cell_type": "code",
      "source": [
        "from xgboost import XGBClassifier, plot_importance"
      ],
      "metadata": {
        "id": "hbtigES24RYT"
      },
      "execution_count": 68,
      "outputs": []
    },
    {
      "cell_type": "code",
      "source": [
        "hp = {\n",
        "    \"random_state\":SEED,\n",
        "    \"max_depth\": 5,\n",
        "    \"n_estimators\" : 10,\n",
        "    \"learning_rate\": 0.04\n",
        "}\n",
        "\n",
        "modelV3 = XGBClassifier(**hp).fit(X_tr, y_tr)\n",
        "modelV3.fit(X_tr_modelV0, y_tr_modelV0) #학습데이터, 타겟데이터"
      ],
      "metadata": {
        "id": "400bG_wD6ELl",
        "colab": {
          "base_uri": "https://localhost:8080/"
        },
        "outputId": "b883a443-012d-4c0a-f1b8-7d24a6f8fccd"
      },
      "execution_count": 129,
      "outputs": [
        {
          "output_type": "execute_result",
          "data": {
            "text/plain": [
              "XGBClassifier(learning_rate=0.04, max_depth=5, n_estimators=10, random_state=42)"
            ]
          },
          "metadata": {},
          "execution_count": 129
        }
      ]
    },
    {
      "cell_type": "code",
      "source": [
        "from sklearn.metrics import roc_curve, auc"
      ],
      "metadata": {
        "id": "eTVoygQV6R5P"
      },
      "execution_count": 130,
      "outputs": []
    },
    {
      "cell_type": "code",
      "source": [
        "pred = modelV3.predict_proba(X_te_modelV0)[:, 1]"
      ],
      "metadata": {
        "id": "ayL2MJ-GDvi5"
      },
      "execution_count": 131,
      "outputs": []
    },
    {
      "cell_type": "code",
      "source": [
        "fpr, tpr, _ = roc_curve(y_te_modelV0, pred) "
      ],
      "metadata": {
        "id": "ILhTMzUIDrzD"
      },
      "execution_count": 132,
      "outputs": []
    },
    {
      "cell_type": "code",
      "source": [
        "auc(fpr, tpr)"
      ],
      "metadata": {
        "id": "SrqyfFfADtV1",
        "colab": {
          "base_uri": "https://localhost:8080/"
        },
        "outputId": "10d7dab3-d464-4dac-80fc-b7feef814079"
      },
      "execution_count": 133,
      "outputs": [
        {
          "output_type": "execute_result",
          "data": {
            "text/plain": [
              "0.8835213032581453"
            ]
          },
          "metadata": {},
          "execution_count": 133
        }
      ]
    },
    {
      "cell_type": "code",
      "source": [
        "import matplotlib.pyplot as plt\n",
        "plot_importance(modelV3)\n",
        "plt.show()"
      ],
      "metadata": {
        "colab": {
          "base_uri": "https://localhost:8080/",
          "height": 332
        },
        "id": "bsxLMiQJXVCI",
        "outputId": "2e330858-d3fe-41f6-e3a1-e5928cbed10d"
      },
      "execution_count": 134,
      "outputs": [
        {
          "output_type": "stream",
          "name": "stderr",
          "text": [
            "WARNING:matplotlib.font_manager:findfont: Font family ['NanumBarunGothic'] not found. Falling back to DejaVu Sans.\n"
          ]
        },
        {
          "output_type": "display_data",
          "data": {
            "text/plain": [
              "<Figure size 432x288 with 1 Axes>"
            ],
            "image/png": "[encoded data removed]"
          },
          "metadata": {
            "image/png": {
              "width": 435,
              "height": 277
            },
            "needs_background": "light"
          }
        }
      ]
    },
    {
      "cell_type": "code",
      "source": [
        "# # max_leaf_nodes 측정\n",
        "# for n in range(2, 20):\n",
        "\n",
        "#   hp = {\n",
        "#     \"random_state\": SEED,\n",
        "#     \"max_depth\": 5,\n",
        "#     \"max_leaf_nodes\" : n\n",
        "#   }\n",
        "\n",
        "#   modelV0 = DecisionTreeClassifier(**hp)\n",
        "#   modelV0.fit(X_tr_modelV0, y_tr_modelV0) #학습데이터, 타겟데이터\n",
        "\n",
        "#   from sklearn.metrics import roc_curve, auc\n",
        "#   pred = modelV0.predict_proba(X_te_modelV0)[:, 1]\n",
        "#   fpr, tpr, _ = roc_curve(y_te_modelV0, pred) \n",
        "#   auc_test = auc(fpr, tpr)\n",
        "#   print(f'max_leaf_nodes : {n} / 측정결과 : {auc_test}')"
      ],
      "metadata": {
        "id": "c-35jGHbPdIx"
      },
      "execution_count": 135,
      "outputs": []
    },
    {
      "cell_type": "code",
      "source": [
        "test_pred = modelV0.predict_proba(df_test)[:, 1]\n",
        "test_pred.shape"
      ],
      "metadata": {
        "colab": {
          "base_uri": "https://localhost:8080/"
        },
        "id": "suqrzGa_D1ZD",
        "outputId": "6d6edb38-d61d-4eff-ebb5-c4c7946dd865"
      },
      "execution_count": 136,
      "outputs": [
        {
          "output_type": "execute_result",
          "data": {
            "text/plain": [
              "(393,)"
            ]
          },
          "metadata": {},
          "execution_count": 136
        }
      ]
    },
    {
      "cell_type": "code",
      "source": [
        "test_pred[:3]"
      ],
      "metadata": {
        "colab": {
          "base_uri": "https://localhost:8080/"
        },
        "id": "2cc_HoxjD9_F",
        "outputId": "868c0e7a-8802-4352-cd1e-7a510e0389f2"
      },
      "execution_count": 137,
      "outputs": [
        {
          "output_type": "execute_result",
          "data": {
            "text/plain": [
              "array([0.93333333, 0.81818182, 0.93333333])"
            ]
          },
          "metadata": {},
          "execution_count": 137
        }
      ]
    },
    {
      "cell_type": "markdown",
      "source": [
        "# Save"
      ],
      "metadata": {
        "id": "X7QS7wq2WWM8"
      }
    },
    {
      "cell_type": "code",
      "source": [
        "submission = pd.read_csv(args.submission_csv)"
      ],
      "metadata": {
        "id": "XsCO28E0DIHG"
      },
      "execution_count": 138,
      "outputs": []
    },
    {
      "cell_type": "code",
      "source": [
        "X_te_modelV0.columns"
      ],
      "metadata": {
        "colab": {
          "base_uri": "https://localhost:8080/"
        },
        "id": "aVD7IddKGR__",
        "outputId": "aa6898bc-86a1-424a-a992-ef42b104ff34"
      },
      "execution_count": 139,
      "outputs": [
        {
          "output_type": "execute_result",
          "data": {
            "text/plain": [
              "Index(['pclass_2.0', 'pclass_3.0', 'pclass_1.0', 'gender_male',\n",
              "       'gender_female', 'age', 'embarked_S', 'embarked_Q', 'embarked_C',\n",
              "       'fare'],\n",
              "      dtype='object')"
            ]
          },
          "metadata": {},
          "execution_count": 139
        }
      ]
    },
    {
      "cell_type": "code",
      "source": [
        "df_feature_importances = pd.DataFrame(modelV3.feature_importances_)\n",
        "\n",
        "df_feature_importances"
      ],
      "metadata": {
        "colab": {
          "base_uri": "https://localhost:8080/",
          "height": 363
        },
        "id": "z91P14frE6U4",
        "outputId": "69ab4cb5-fd60-4c5c-8dc8-292a334ca78b"
      },
      "execution_count": 144,
      "outputs": [
        {
          "output_type": "execute_result",
          "data": {
            "text/plain": [
              "          0\n",
              "0  0.010344\n",
              "1  0.051904\n",
              "2  0.024742\n",
              "3  0.890482\n",
              "4  0.000000\n",
              "5  0.005446\n",
              "6  0.002761\n",
              "7  0.005066\n",
              "8  0.000000\n",
              "9  0.009255"
            ],
            "text/html": [
              "\n",
              "  <div id=\"df-155f568f-2bdd-4650-90d9-c5ca6ede2dca\">\n",
              "    <div class=\"colab-df-container\">\n",
              "      <div>\n",
              "<style scoped>\n",
              "    .dataframe tbody tr th:only-of-type {\n",
              "        vertical-align: middle;\n",
              "    }\n",
              "\n",
              "    .dataframe tbody tr th {\n",
              "        vertical-align: top;\n",
              "    }\n",
              "\n",
              "    .dataframe thead th {\n",
              "        text-align: right;\n",
              "    }\n",
              "</style>\n",
              "<table border=\"1\" class=\"dataframe\">\n",
              "  <thead>\n",
              "    <tr style=\"text-align: right;\">\n",
              "      <th></th>\n",
              "      <th>0</th>\n",
              "    </tr>\n",
              "  </thead>\n",
              "  <tbody>\n",
              "    <tr>\n",
              "      <th>0</th>\n",
              "      <td>0.010344</td>\n",
              "    </tr>\n",
              "    <tr>\n",
              "      <th>1</th>\n",
              "      <td>0.051904</td>\n",
              "    </tr>\n",
              "    <tr>\n",
              "      <th>2</th>\n",
              "      <td>0.024742</td>\n",
              "    </tr>\n",
              "    <tr>\n",
              "      <th>3</th>\n",
              "      <td>0.890482</td>\n",
              "    </tr>\n",
              "    <tr>\n",
              "      <th>4</th>\n",
              "      <td>0.000000</td>\n",
              "    </tr>\n",
              "    <tr>\n",
              "      <th>5</th>\n",
              "      <td>0.005446</td>\n",
              "    </tr>\n",
              "    <tr>\n",
              "      <th>6</th>\n",
              "      <td>0.002761</td>\n",
              "    </tr>\n",
              "    <tr>\n",
              "      <th>7</th>\n",
              "      <td>0.005066</td>\n",
              "    </tr>\n",
              "    <tr>\n",
              "      <th>8</th>\n",
              "      <td>0.000000</td>\n",
              "    </tr>\n",
              "    <tr>\n",
              "      <th>9</th>\n",
              "      <td>0.009255</td>\n",
              "    </tr>\n",
              "  </tbody>\n",
              "</table>\n",
              "</div>\n",
              "      <button class=\"colab-df-convert\" onclick=\"convertToInteractive('df-155f568f-2bdd-4650-90d9-c5ca6ede2dca')\"\n",
              "              title=\"Convert this dataframe to an interactive table.\"\n",
              "              style=\"display:none;\">\n",
              "        \n",
              "  <svg xmlns=\"http://www.w3.org/2000/svg\" height=\"24px\"viewBox=\"0 0 24 24\"\n",
              "       width=\"24px\">\n",
              "    <path d=\"M0 0h24v24H0V0z\" fill=\"none\"/>\n",
              "    <path d=\"M18.56 5.44l.94 2.06.94-2.06 2.06-.94-2.06-.94-.94-2.06-.94 2.06-2.06.94zm-11 1L8.5 8.5l.94-2.06 2.06-.94-2.06-.94L8.5 2.5l-.94 2.06-2.06.94zm10 10l.94 2.06.94-2.06 2.06-.94-2.06-.94-.94-2.06-.94 2.06-2.06.94z\"/><path d=\"M17.41 7.96l-1.37-1.37c-.4-.4-.92-.59-1.43-.59-.52 0-1.04.2-1.43.59L10.3 9.45l-7.72 7.72c-.78.78-.78 2.05 0 2.83L4 21.41c.39.39.9.59 1.41.59.51 0 1.02-.2 1.41-.59l7.78-7.78 2.81-2.81c.8-.78.8-2.07 0-2.86zM5.41 20L4 18.59l7.72-7.72 1.47 1.35L5.41 20z\"/>\n",
              "  </svg>\n",
              "      </button>\n",
              "      \n",
              "  <style>\n",
              "    .colab-df-container {\n",
              "      display:flex;\n",
              "      flex-wrap:wrap;\n",
              "      gap: 12px;\n",
              "    }\n",
              "\n",
              "    .colab-df-convert {\n",
              "      background-color: #E8F0FE;\n",
              "      border: none;\n",
              "      border-radius: 50%;\n",
              "      cursor: pointer;\n",
              "      display: none;\n",
              "      fill: #1967D2;\n",
              "      height: 32px;\n",
              "      padding: 0 0 0 0;\n",
              "      width: 32px;\n",
              "    }\n",
              "\n",
              "    .colab-df-convert:hover {\n",
              "      background-color: #E2EBFA;\n",
              "      box-shadow: 0px 1px 2px rgba(60, 64, 67, 0.3), 0px 1px 3px 1px rgba(60, 64, 67, 0.15);\n",
              "      fill: #174EA6;\n",
              "    }\n",
              "\n",
              "    [theme=dark] .colab-df-convert {\n",
              "      background-color: #3B4455;\n",
              "      fill: #D2E3FC;\n",
              "    }\n",
              "\n",
              "    [theme=dark] .colab-df-convert:hover {\n",
              "      background-color: #434B5C;\n",
              "      box-shadow: 0px 1px 3px 1px rgba(0, 0, 0, 0.15);\n",
              "      filter: drop-shadow(0px 1px 2px rgba(0, 0, 0, 0.3));\n",
              "      fill: #FFFFFF;\n",
              "    }\n",
              "  </style>\n",
              "\n",
              "      <script>\n",
              "        const buttonEl =\n",
              "          document.querySelector('#df-155f568f-2bdd-4650-90d9-c5ca6ede2dca button.colab-df-convert');\n",
              "        buttonEl.style.display =\n",
              "          google.colab.kernel.accessAllowed ? 'block' : 'none';\n",
              "\n",
              "        async function convertToInteractive(key) {\n",
              "          const element = document.querySelector('#df-155f568f-2bdd-4650-90d9-c5ca6ede2dca');\n",
              "          const dataTable =\n",
              "            await google.colab.kernel.invokeFunction('convertToInteractive',\n",
              "                                                     [key], {});\n",
              "          if (!dataTable) return;\n",
              "\n",
              "          const docLinkHtml = 'Like what you see? Visit the ' +\n",
              "            '<a target=\"_blank\" href=https://colab.research.google.com/notebooks/data_table.ipynb>data table notebook</a>'\n",
              "            + ' to learn more about interactive tables.';\n",
              "          element.innerHTML = '';\n",
              "          dataTable['output_type'] = 'display_data';\n",
              "          await google.colab.output.renderOutput(dataTable, element);\n",
              "          const docLink = document.createElement('div');\n",
              "          docLink.innerHTML = docLinkHtml;\n",
              "          element.appendChild(docLink);\n",
              "        }\n",
              "      </script>\n",
              "    </div>\n",
              "  </div>\n",
              "  "
            ]
          },
          "metadata": {},
          "execution_count": 144
        }
      ]
    },
    {
      "cell_type": "code",
      "source": [
        "submission['survived'] = test_pred\n",
        "submission.head()"
      ],
      "metadata": {
        "colab": {
          "base_uri": "https://localhost:8080/",
          "height": 206
        },
        "id": "4AnDsm0KEEQR",
        "outputId": "38278fbc-9343-4ac2-9257-5d5e29b306a7"
      },
      "execution_count": 141,
      "outputs": [
        {
          "output_type": "execute_result",
          "data": {
            "text/plain": [
              "   passengerid  survived\n",
              "0          916  0.933333\n",
              "1          917  0.818182\n",
              "2          918  0.933333\n",
              "3          919  0.081340\n",
              "4          920  0.928571"
            ],
            "text/html": [
              "\n",
              "  <div id=\"df-11808720-bc6e-44b7-90fd-fb57b31336bd\">\n",
              "    <div class=\"colab-df-container\">\n",
              "      <div>\n",
              "<style scoped>\n",
              "    .dataframe tbody tr th:only-of-type {\n",
              "        vertical-align: middle;\n",
              "    }\n",
              "\n",
              "    .dataframe tbody tr th {\n",
              "        vertical-align: top;\n",
              "    }\n",
              "\n",
              "    .dataframe thead th {\n",
              "        text-align: right;\n",
              "    }\n",
              "</style>\n",
              "<table border=\"1\" class=\"dataframe\">\n",
              "  <thead>\n",
              "    <tr style=\"text-align: right;\">\n",
              "      <th></th>\n",
              "      <th>passengerid</th>\n",
              "      <th>survived</th>\n",
              "    </tr>\n",
              "  </thead>\n",
              "  <tbody>\n",
              "    <tr>\n",
              "      <th>0</th>\n",
              "      <td>916</td>\n",
              "      <td>0.933333</td>\n",
              "    </tr>\n",
              "    <tr>\n",
              "      <th>1</th>\n",
              "      <td>917</td>\n",
              "      <td>0.818182</td>\n",
              "    </tr>\n",
              "    <tr>\n",
              "      <th>2</th>\n",
              "      <td>918</td>\n",
              "      <td>0.933333</td>\n",
              "    </tr>\n",
              "    <tr>\n",
              "      <th>3</th>\n",
              "      <td>919</td>\n",
              "      <td>0.081340</td>\n",
              "    </tr>\n",
              "    <tr>\n",
              "      <th>4</th>\n",
              "      <td>920</td>\n",
              "      <td>0.928571</td>\n",
              "    </tr>\n",
              "  </tbody>\n",
              "</table>\n",
              "</div>\n",
              "      <button class=\"colab-df-convert\" onclick=\"convertToInteractive('df-11808720-bc6e-44b7-90fd-fb57b31336bd')\"\n",
              "              title=\"Convert this dataframe to an interactive table.\"\n",
              "              style=\"display:none;\">\n",
              "        \n",
              "  <svg xmlns=\"http://www.w3.org/2000/svg\" height=\"24px\"viewBox=\"0 0 24 24\"\n",
              "       width=\"24px\">\n",
              "    <path d=\"M0 0h24v24H0V0z\" fill=\"none\"/>\n",
              "    <path d=\"M18.56 5.44l.94 2.06.94-2.06 2.06-.94-2.06-.94-.94-2.06-.94 2.06-2.06.94zm-11 1L8.5 8.5l.94-2.06 2.06-.94-2.06-.94L8.5 2.5l-.94 2.06-2.06.94zm10 10l.94 2.06.94-2.06 2.06-.94-2.06-.94-.94-2.06-.94 2.06-2.06.94z\"/><path d=\"M17.41 7.96l-1.37-1.37c-.4-.4-.92-.59-1.43-.59-.52 0-1.04.2-1.43.59L10.3 9.45l-7.72 7.72c-.78.78-.78 2.05 0 2.83L4 21.41c.39.39.9.59 1.41.59.51 0 1.02-.2 1.41-.59l7.78-7.78 2.81-2.81c.8-.78.8-2.07 0-2.86zM5.41 20L4 18.59l7.72-7.72 1.47 1.35L5.41 20z\"/>\n",
              "  </svg>\n",
              "      </button>\n",
              "      \n",
              "  <style>\n",
              "    .colab-df-container {\n",
              "      display:flex;\n",
              "      flex-wrap:wrap;\n",
              "      gap: 12px;\n",
              "    }\n",
              "\n",
              "    .colab-df-convert {\n",
              "      background-color: #E8F0FE;\n",
              "      border: none;\n",
              "      border-radius: 50%;\n",
              "      cursor: pointer;\n",
              "      display: none;\n",
              "      fill: #1967D2;\n",
              "      height: 32px;\n",
              "      padding: 0 0 0 0;\n",
              "      width: 32px;\n",
              "    }\n",
              "\n",
              "    .colab-df-convert:hover {\n",
              "      background-color: #E2EBFA;\n",
              "      box-shadow: 0px 1px 2px rgba(60, 64, 67, 0.3), 0px 1px 3px 1px rgba(60, 64, 67, 0.15);\n",
              "      fill: #174EA6;\n",
              "    }\n",
              "\n",
              "    [theme=dark] .colab-df-convert {\n",
              "      background-color: #3B4455;\n",
              "      fill: #D2E3FC;\n",
              "    }\n",
              "\n",
              "    [theme=dark] .colab-df-convert:hover {\n",
              "      background-color: #434B5C;\n",
              "      box-shadow: 0px 1px 3px 1px rgba(0, 0, 0, 0.15);\n",
              "      filter: drop-shadow(0px 1px 2px rgba(0, 0, 0, 0.3));\n",
              "      fill: #FFFFFF;\n",
              "    }\n",
              "  </style>\n",
              "\n",
              "      <script>\n",
              "        const buttonEl =\n",
              "          document.querySelector('#df-11808720-bc6e-44b7-90fd-fb57b31336bd button.colab-df-convert');\n",
              "        buttonEl.style.display =\n",
              "          google.colab.kernel.accessAllowed ? 'block' : 'none';\n",
              "\n",
              "        async function convertToInteractive(key) {\n",
              "          const element = document.querySelector('#df-11808720-bc6e-44b7-90fd-fb57b31336bd');\n",
              "          const dataTable =\n",
              "            await google.colab.kernel.invokeFunction('convertToInteractive',\n",
              "                                                     [key], {});\n",
              "          if (!dataTable) return;\n",
              "\n",
              "          const docLinkHtml = 'Like what you see? Visit the ' +\n",
              "            '<a target=\"_blank\" href=https://colab.research.google.com/notebooks/data_table.ipynb>data table notebook</a>'\n",
              "            + ' to learn more about interactive tables.';\n",
              "          element.innerHTML = '';\n",
              "          dataTable['output_type'] = 'display_data';\n",
              "          await google.colab.output.renderOutput(dataTable, element);\n",
              "          const docLink = document.createElement('div');\n",
              "          docLink.innerHTML = docLinkHtml;\n",
              "          element.appendChild(docLink);\n",
              "        }\n",
              "      </script>\n",
              "    </div>\n",
              "  </div>\n",
              "  "
            ]
          },
          "metadata": {},
          "execution_count": 141
        }
      ]
    },
    {
      "cell_type": "code",
      "source": [
        "submission.to_csv(args.submission_csv, header=True, index=False)"
      ],
      "metadata": {
        "id": "1OzDizKlEVtU"
      },
      "execution_count": 142,
      "outputs": []
    },
    {
      "cell_type": "code",
      "source": [
        "test_pred"
      ],
      "metadata": {
        "id": "zbczH8AsEc3M",
        "colab": {
          "base_uri": "https://localhost:8080/"
        },
        "outputId": "5bb8cafd-9e57-4e51-d089-53a27490427c"
      },
      "execution_count": 143,
      "outputs": [
        {
          "output_type": "execute_result",
          "data": {
            "text/plain": [
              "array([0.93333333, 0.81818182, 0.93333333, 0.08133971, 0.92857143,\n",
              "       0.88888889, 0.03125   , 0.08133971, 0.6440678 , 0.03125   ,\n",
              "       0.03125   , 0.        , 0.6440678 , 0.6440678 , 0.03125   ,\n",
              "       0.33333333, 0.        , 0.03125   , 0.08133971, 0.08133971,\n",
              "       0.08133971, 0.03125   , 0.08133971, 0.03125   , 0.08133971,\n",
              "       0.08133971, 0.33333333, 0.6440678 , 0.33333333, 0.        ,\n",
              "       0.6440678 , 0.6440678 , 0.        , 0.33333333, 0.33333333,\n",
              "       0.08133971, 1.        , 0.03125   , 0.33333333, 0.08133971,\n",
              "       0.08133971, 1.        , 0.08133971, 1.        , 0.03125   ,\n",
              "       0.03125   , 0.33333333, 0.03125   , 0.08133971, 0.03125   ,\n",
              "       0.5       , 0.        , 1.        , 0.08133971, 0.6440678 ,\n",
              "       0.93333333, 0.        , 0.08133971, 0.03125   , 0.5       ,\n",
              "       1.        , 0.6440678 , 0.93333333, 0.03125   , 0.03125   ,\n",
              "       0.03125   , 0.33333333, 0.88888889, 0.08133971, 1.        ,\n",
              "       0.08133971, 1.        , 0.6440678 , 1.        , 0.03125   ,\n",
              "       0.42857143, 0.03125   , 1.        , 0.08133971, 0.08133971,\n",
              "       0.33333333, 0.08133971, 0.        , 0.5       , 0.5       ,\n",
              "       0.6440678 , 0.        , 0.93333333, 0.33333333, 0.6440678 ,\n",
              "       0.33333333, 1.        , 0.57142857, 0.33333333, 0.03125   ,\n",
              "       0.03125   , 0.03125   , 0.33333333, 0.08133971, 0.5       ,\n",
              "       1.        , 0.93333333, 0.03125   , 0.03125   , 0.08133971,\n",
              "       0.        , 0.08133971, 0.6440678 , 0.08133971, 1.        ,\n",
              "       0.08133971, 0.03125   , 1.        , 0.03125   , 0.03125   ,\n",
              "       0.33333333, 0.        , 0.6440678 , 0.33333333, 0.        ,\n",
              "       1.        , 0.08133971, 0.08133971, 1.        , 0.08133971,\n",
              "       0.03125   , 1.        , 0.03125   , 0.08133971, 1.        ,\n",
              "       0.03125   , 0.08133971, 0.93333333, 0.5       , 0.08133971,\n",
              "       1.        , 1.        , 0.08133971, 1.        , 0.33333333,\n",
              "       0.08133971, 0.08133971, 0.08133971, 0.08133971, 0.33333333,\n",
              "       0.33333333, 1.        , 0.        , 0.08133971, 0.03125   ,\n",
              "       0.08133971, 0.08133971, 0.03125   , 0.08133971, 0.03125   ,\n",
              "       0.03125   , 1.        , 0.08133971, 0.08133971, 0.92857143,\n",
              "       0.08133971, 0.08133971, 0.92857143, 1.        , 0.08133971,\n",
              "       1.        , 0.6440678 , 0.08133971, 1.        , 0.03125   ,\n",
              "       0.08133971, 0.03125   , 0.08133971, 0.33333333, 0.33333333,\n",
              "       0.08133971, 1.        , 1.        , 1.        , 1.        ,\n",
              "       0.        , 0.08133971, 0.08133971, 0.88888889, 1.        ,\n",
              "       0.42857143, 1.        , 0.33333333, 0.33333333, 0.03125   ,\n",
              "       0.03125   , 0.88888889, 0.6440678 , 0.92857143, 0.33333333,\n",
              "       0.08133971, 0.08133971, 0.03125   , 0.03125   , 0.6440678 ,\n",
              "       0.03125   , 0.08133971, 0.03125   , 0.6440678 , 0.03125   ,\n",
              "       0.03125   , 1.        , 0.08133971, 0.33333333, 0.08133971,\n",
              "       0.        , 0.33333333, 0.03125   , 0.03125   , 1.        ,\n",
              "       0.93333333, 0.08133971, 0.08133971, 0.6440678 , 0.08133971,\n",
              "       0.08133971, 0.92857143, 0.08133971, 0.03125   , 0.08133971,\n",
              "       0.08133971, 0.33333333, 1.        , 1.        , 1.        ,\n",
              "       0.6440678 , 0.33333333, 0.33333333, 0.03125   , 0.81818182,\n",
              "       0.42857143, 0.        , 0.08133971, 0.33333333, 0.33333333,\n",
              "       0.03125   , 0.08133971, 0.08133971, 0.08133971, 0.08133971,\n",
              "       0.        , 0.6440678 , 0.08133971, 0.6440678 , 0.92857143,\n",
              "       0.92857143, 0.08133971, 1.        , 0.08133971, 1.        ,\n",
              "       0.03125   , 0.08133971, 0.33333333, 0.92857143, 0.93333333,\n",
              "       0.03125   , 0.88888889, 0.        , 0.        , 0.33333333,\n",
              "       0.33333333, 0.08133971, 0.08133971, 0.93333333, 0.81818182,\n",
              "       0.33333333, 0.03125   , 0.03125   , 0.08133971, 1.        ,\n",
              "       0.08133971, 0.03125   , 0.08133971, 0.08133971, 0.33333333,\n",
              "       0.08133971, 0.92857143, 0.6440678 , 0.03125   , 1.        ,\n",
              "       0.08133971, 0.03125   , 0.03125   , 0.93333333, 0.08133971,\n",
              "       0.08133971, 0.08133971, 1.        , 0.08133971, 0.03125   ,\n",
              "       0.88888889, 0.33333333, 0.08133971, 1.        , 0.08133971,\n",
              "       0.08133971, 0.81818182, 0.5       , 0.        , 1.        ,\n",
              "       0.        , 0.08133971, 0.08133971, 0.08133971, 0.08133971,\n",
              "       0.6440678 , 0.08133971, 0.6440678 , 0.33333333, 0.92857143,\n",
              "       1.        , 0.08133971, 0.08133971, 0.08133971, 0.6440678 ,\n",
              "       0.33333333, 0.03125   , 0.08133971, 1.        , 0.6440678 ,\n",
              "       0.08133971, 0.03125   , 1.        , 0.03125   , 0.6440678 ,\n",
              "       0.6440678 , 0.08133971, 0.08133971, 0.        , 0.93333333,\n",
              "       1.        , 0.08133971, 0.08133971, 0.81818182, 0.08133971,\n",
              "       0.92857143, 0.08133971, 0.33333333, 0.6440678 , 0.08133971,\n",
              "       0.03125   , 1.        , 0.33333333, 0.92857143, 0.6440678 ,\n",
              "       0.6440678 , 0.88888889, 0.08133971, 0.42857143, 1.        ,\n",
              "       0.6440678 , 0.33333333, 0.08133971, 0.88888889, 0.81818182,\n",
              "       0.08133971, 0.93333333, 1.        , 0.08133971, 1.        ,\n",
              "       0.03125   , 0.93333333, 0.03125   , 1.        , 0.08133971,\n",
              "       0.08133971, 0.08133971, 0.33333333, 0.6440678 , 0.92857143,\n",
              "       0.92857143, 0.08133971, 1.        , 0.08133971, 0.88888889,\n",
              "       0.08133971, 0.03125   , 0.92857143, 0.03125   , 0.03125   ,\n",
              "       0.08133971, 0.03125   , 0.6440678 , 0.93333333, 1.        ,\n",
              "       0.6440678 , 0.        , 0.6440678 ])"
            ]
          },
          "metadata": {},
          "execution_count": 143
        }
      ]
    },
    {
      "cell_type": "code",
      "source": [],
      "metadata": {
        "id": "Kn6VB5RelefD"
      },
      "execution_count": 67,
      "outputs": []
    }
  ]
}